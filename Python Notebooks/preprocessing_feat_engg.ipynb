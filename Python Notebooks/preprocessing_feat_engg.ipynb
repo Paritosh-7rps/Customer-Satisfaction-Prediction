{
  "nbformat": 4,
  "nbformat_minor": 0,
  "metadata": {
    "accelerator": "GPU",
    "colab": {
      "name": "preprocessing_feat_engg.ipynb",
      "provenance": [],
      "collapsed_sections": [],
      "toc_visible": true,
      "machine_shape": "hm"
    },
    "kernelspec": {
      "display_name": "Python 3",
      "name": "python3"
    }
  },
  "cells": [
    {
      "cell_type": "markdown",
      "metadata": {
        "id": "p3CISYpezFH0"
      },
      "source": [
        "## Data Preprocessing,Feature Engineering And Feature Selection"
      ]
    },
    {
      "cell_type": "code",
      "metadata": {
        "id": "oEewfbOMzBKc"
      },
      "source": [
        "#Importing Liraries\n",
        "\n",
        "# Importing Libraries\n",
        "import warnings\n",
        "warnings.filterwarnings(\"ignore\")\n",
        "\n",
        "from tqdm import tqdm\n",
        "import shutil\n",
        "import os\n",
        "import numpy as np\n",
        "import pandas as pd\n",
        "from datetime import datetime\n",
        "import matplotlib\n",
        "matplotlib.use(u'nbAgg')\n",
        "import matplotlib.pyplot as plt\n",
        "%matplotlib inline\n",
        "import seaborn as sns\n",
        "import pickle\n",
        "import random\n",
        "from scipy.stats import randint as sp_randint\n",
        "from scipy.stats import uniform\n",
        "from scipy.sparse import hstack\n",
        "from wordcloud import WordCloud\n",
        "\n",
        "\n",
        "# Utilities\n",
        "#from viz_utils import *\n",
        "#from custom_transformers import *\n",
        "#from ml_utils import *\n",
        "\n",
        "# DataPrep\n",
        "import re\n",
        "from nltk.corpus import stopwords\n",
        "from nltk.stem import RSLPStemmer\n",
        "from sklearn.feature_extraction.text import CountVectorizer, TfidfVectorizer\n",
        "from sklearn.preprocessing import Normalizer\n",
        "\n",
        "# Modeling\n",
        "\n",
        "from sklearn.model_selection import train_test_split\n",
        "from xgboost import XGBClassifier\n",
        "from lightgbm import LGBMClassifier\n",
        "from sklearn.model_selection import RandomizedSearchCV,GridSearchCV\n",
        "from sklearn.tree import DecisionTreeClassifier\n",
        "from sklearn.calibration import CalibratedClassifierCV\n",
        "from sklearn.linear_model import SGDClassifier,LogisticRegression\n",
        "from sklearn.neighbors import KNeighborsClassifier\n",
        "from sklearn.ensemble import RandomForestClassifier, StackingClassifier, VotingClassifier, AdaBoostClassifier\n",
        "#Metrics\n",
        "from sklearn.metrics import log_loss,accuracy_score, confusion_matrix, f1_score\n",
        "\n",
        "\n",
        "\n",
        "\n",
        "\n",
        "#Importing the Libraries\n",
        "from tensorflow.keras.layers import LeakyReLU\n",
        "from tensorflow.keras.models import Model\n",
        "from tensorflow.keras.layers import Input\n",
        "from tensorflow.keras.layers import Dense\n",
        "from tensorflow.keras.layers import BatchNormalization\n",
        "from tensorflow.keras.models import load_model\n",
        "\n",
        "\n"
      ],
      "execution_count": null,
      "outputs": []
    },
    {
      "cell_type": "code",
      "metadata": {
        "colab": {
          "base_uri": "https://localhost:8080/",
          "height": 296
        },
        "id": "ahwv0hVEAHhP",
        "outputId": "d0b50fa8-3d04-4064-a378-d3aefa3931ca"
      },
      "source": [
        "#reading data\n",
        "data = pd.read_pickle('final.pkl')\n",
        "data.head()"
      ],
      "execution_count": null,
      "outputs": [
        {
          "output_type": "execute_result",
          "data": {
            "text/html": [
              "<div>\n",
              "<style scoped>\n",
              "    .dataframe tbody tr th:only-of-type {\n",
              "        vertical-align: middle;\n",
              "    }\n",
              "\n",
              "    .dataframe tbody tr th {\n",
              "        vertical-align: top;\n",
              "    }\n",
              "\n",
              "    .dataframe thead th {\n",
              "        text-align: right;\n",
              "    }\n",
              "</style>\n",
              "<table border=\"1\" class=\"dataframe\">\n",
              "  <thead>\n",
              "    <tr style=\"text-align: right;\">\n",
              "      <th></th>\n",
              "      <th>order_id</th>\n",
              "      <th>customer_id</th>\n",
              "      <th>order_status</th>\n",
              "      <th>order_purchase_timestamp</th>\n",
              "      <th>order_approved_at</th>\n",
              "      <th>order_delivered_customer_date</th>\n",
              "      <th>order_estimated_delivery_date</th>\n",
              "      <th>payment_sequential</th>\n",
              "      <th>payment_type</th>\n",
              "      <th>payment_installments</th>\n",
              "      <th>payment_value</th>\n",
              "      <th>customer_unique_id</th>\n",
              "      <th>customer_zip_code_prefix</th>\n",
              "      <th>customer_city</th>\n",
              "      <th>customer_state</th>\n",
              "      <th>order_item_id</th>\n",
              "      <th>product_id</th>\n",
              "      <th>seller_id</th>\n",
              "      <th>shipping_limit_date</th>\n",
              "      <th>price</th>\n",
              "      <th>freight_value</th>\n",
              "      <th>product_category_name</th>\n",
              "      <th>product_name_lenght</th>\n",
              "      <th>product_description_lenght</th>\n",
              "      <th>product_photos_qty</th>\n",
              "      <th>product_weight_g</th>\n",
              "      <th>product_length_cm</th>\n",
              "      <th>product_height_cm</th>\n",
              "      <th>product_width_cm</th>\n",
              "      <th>product_category_name_english</th>\n",
              "      <th>review_score</th>\n",
              "      <th>review_comment_message</th>\n",
              "      <th>order_purchase_year</th>\n",
              "      <th>order_purchase_month</th>\n",
              "      <th>order_purchase_month_name</th>\n",
              "      <th>order_purchase_year_month</th>\n",
              "      <th>order_purchase_date</th>\n",
              "      <th>order_purchase_month_yr</th>\n",
              "      <th>order_purchase_day</th>\n",
              "      <th>order_purchase_dayofweek</th>\n",
              "      <th>order_purchase_dayofweek_name</th>\n",
              "      <th>order_purchase_hour</th>\n",
              "      <th>order_purchase_time_day</th>\n",
              "      <th>day_to_delivery</th>\n",
              "      <th>words_per_review</th>\n",
              "    </tr>\n",
              "  </thead>\n",
              "  <tbody>\n",
              "    <tr>\n",
              "      <th>0</th>\n",
              "      <td>e481f51cbdc54678b7cc49136f2d6af7</td>\n",
              "      <td>9ef432eb6251297304e76186b10a928d</td>\n",
              "      <td>delivered</td>\n",
              "      <td>2017-10-02 10:56:33</td>\n",
              "      <td>2017-10-02 11:07:15</td>\n",
              "      <td>2017-10-10 21:25:13</td>\n",
              "      <td>2017-10-18</td>\n",
              "      <td>1</td>\n",
              "      <td>credit_card</td>\n",
              "      <td>1</td>\n",
              "      <td>18.12</td>\n",
              "      <td>7c396fd4830fd04220f754e42b4e5bff</td>\n",
              "      <td>3149</td>\n",
              "      <td>sao paulo</td>\n",
              "      <td>SP</td>\n",
              "      <td>1</td>\n",
              "      <td>87285b34884572647811a353c7ac498a</td>\n",
              "      <td>3504c0cb71d7fa48d967e0e4c94d59d9</td>\n",
              "      <td>2017-10-06 11:07:15</td>\n",
              "      <td>29.99</td>\n",
              "      <td>8.72</td>\n",
              "      <td>utilidades_domesticas</td>\n",
              "      <td>40.0</td>\n",
              "      <td>268.0</td>\n",
              "      <td>4.0</td>\n",
              "      <td>500.0</td>\n",
              "      <td>19.0</td>\n",
              "      <td>8.0</td>\n",
              "      <td>13.0</td>\n",
              "      <td>housewares</td>\n",
              "      <td>1</td>\n",
              "      <td>Não testei o produto ainda, mas ele veio corre...</td>\n",
              "      <td>2017</td>\n",
              "      <td>10</td>\n",
              "      <td>Oct</td>\n",
              "      <td>201710</td>\n",
              "      <td>20171002</td>\n",
              "      <td>Oct-17</td>\n",
              "      <td>2</td>\n",
              "      <td>0</td>\n",
              "      <td>Mon</td>\n",
              "      <td>10</td>\n",
              "      <td>Morning</td>\n",
              "      <td>8</td>\n",
              "      <td>32</td>\n",
              "    </tr>\n",
              "    <tr>\n",
              "      <th>3</th>\n",
              "      <td>128e10d95713541c87cd1a2e48201934</td>\n",
              "      <td>a20e8105f23924cd00833fd87daa0831</td>\n",
              "      <td>delivered</td>\n",
              "      <td>2017-08-15 18:29:31</td>\n",
              "      <td>2017-08-15 20:05:16</td>\n",
              "      <td>2017-08-18 14:44:43</td>\n",
              "      <td>2017-08-28</td>\n",
              "      <td>1</td>\n",
              "      <td>credit_card</td>\n",
              "      <td>3</td>\n",
              "      <td>37.77</td>\n",
              "      <td>3a51803cc0d012c3b5dc8b7528cb05f7</td>\n",
              "      <td>3366</td>\n",
              "      <td>sao paulo</td>\n",
              "      <td>SP</td>\n",
              "      <td>1</td>\n",
              "      <td>87285b34884572647811a353c7ac498a</td>\n",
              "      <td>3504c0cb71d7fa48d967e0e4c94d59d9</td>\n",
              "      <td>2017-08-21 20:05:16</td>\n",
              "      <td>29.99</td>\n",
              "      <td>7.78</td>\n",
              "      <td>utilidades_domesticas</td>\n",
              "      <td>40.0</td>\n",
              "      <td>268.0</td>\n",
              "      <td>4.0</td>\n",
              "      <td>500.0</td>\n",
              "      <td>19.0</td>\n",
              "      <td>8.0</td>\n",
              "      <td>13.0</td>\n",
              "      <td>housewares</td>\n",
              "      <td>1</td>\n",
              "      <td>Deveriam embalar melhor o produto. A caixa vei...</td>\n",
              "      <td>2017</td>\n",
              "      <td>8</td>\n",
              "      <td>Aug</td>\n",
              "      <td>201708</td>\n",
              "      <td>20170815</td>\n",
              "      <td>Aug-17</td>\n",
              "      <td>15</td>\n",
              "      <td>1</td>\n",
              "      <td>Tue</td>\n",
              "      <td>18</td>\n",
              "      <td>Afternoon</td>\n",
              "      <td>2</td>\n",
              "      <td>16</td>\n",
              "    </tr>\n",
              "    <tr>\n",
              "      <th>4</th>\n",
              "      <td>0e7e841ddf8f8f2de2bad69267ecfbcf</td>\n",
              "      <td>26c7ac168e1433912a51b924fbd34d34</td>\n",
              "      <td>delivered</td>\n",
              "      <td>2017-08-02 18:24:47</td>\n",
              "      <td>2017-08-02 18:43:15</td>\n",
              "      <td>2017-08-07 18:30:01</td>\n",
              "      <td>2017-08-15</td>\n",
              "      <td>1</td>\n",
              "      <td>credit_card</td>\n",
              "      <td>1</td>\n",
              "      <td>37.77</td>\n",
              "      <td>ef0996a1a279c26e7ecbd737be23d235</td>\n",
              "      <td>2290</td>\n",
              "      <td>sao paulo</td>\n",
              "      <td>SP</td>\n",
              "      <td>1</td>\n",
              "      <td>87285b34884572647811a353c7ac498a</td>\n",
              "      <td>3504c0cb71d7fa48d967e0e4c94d59d9</td>\n",
              "      <td>2017-08-08 18:37:31</td>\n",
              "      <td>29.99</td>\n",
              "      <td>7.78</td>\n",
              "      <td>utilidades_domesticas</td>\n",
              "      <td>40.0</td>\n",
              "      <td>268.0</td>\n",
              "      <td>4.0</td>\n",
              "      <td>500.0</td>\n",
              "      <td>19.0</td>\n",
              "      <td>8.0</td>\n",
              "      <td>13.0</td>\n",
              "      <td>housewares</td>\n",
              "      <td>1</td>\n",
              "      <td>Só achei ela pequena pra seis xícaras ,mais é ...</td>\n",
              "      <td>2017</td>\n",
              "      <td>8</td>\n",
              "      <td>Aug</td>\n",
              "      <td>201708</td>\n",
              "      <td>20170802</td>\n",
              "      <td>Aug-17</td>\n",
              "      <td>2</td>\n",
              "      <td>2</td>\n",
              "      <td>Wed</td>\n",
              "      <td>18</td>\n",
              "      <td>Afternoon</td>\n",
              "      <td>5</td>\n",
              "      <td>12</td>\n",
              "    </tr>\n",
              "    <tr>\n",
              "      <th>5</th>\n",
              "      <td>bfc39df4f36c3693ff3b63fcbea9e90a</td>\n",
              "      <td>53904ddbea91e1e92b2b3f1d09a7af86</td>\n",
              "      <td>delivered</td>\n",
              "      <td>2017-10-23 23:26:46</td>\n",
              "      <td>2017-10-25 02:14:11</td>\n",
              "      <td>2017-11-07 18:04:59</td>\n",
              "      <td>2017-11-13</td>\n",
              "      <td>1</td>\n",
              "      <td>boleto</td>\n",
              "      <td>1</td>\n",
              "      <td>44.09</td>\n",
              "      <td>e781fdcc107d13d865fc7698711cc572</td>\n",
              "      <td>88032</td>\n",
              "      <td>florianopolis</td>\n",
              "      <td>SC</td>\n",
              "      <td>1</td>\n",
              "      <td>87285b34884572647811a353c7ac498a</td>\n",
              "      <td>3504c0cb71d7fa48d967e0e4c94d59d9</td>\n",
              "      <td>2017-10-31 02:14:11</td>\n",
              "      <td>29.99</td>\n",
              "      <td>14.10</td>\n",
              "      <td>utilidades_domesticas</td>\n",
              "      <td>40.0</td>\n",
              "      <td>268.0</td>\n",
              "      <td>4.0</td>\n",
              "      <td>500.0</td>\n",
              "      <td>19.0</td>\n",
              "      <td>8.0</td>\n",
              "      <td>13.0</td>\n",
              "      <td>housewares</td>\n",
              "      <td>1</td>\n",
              "      <td>nao_reveja</td>\n",
              "      <td>2017</td>\n",
              "      <td>10</td>\n",
              "      <td>Oct</td>\n",
              "      <td>201710</td>\n",
              "      <td>20171023</td>\n",
              "      <td>Oct-17</td>\n",
              "      <td>23</td>\n",
              "      <td>0</td>\n",
              "      <td>Mon</td>\n",
              "      <td>23</td>\n",
              "      <td>Night</td>\n",
              "      <td>14</td>\n",
              "      <td>1</td>\n",
              "    </tr>\n",
              "    <tr>\n",
              "      <th>6</th>\n",
              "      <td>6ea2f835b4556291ffdc53fa0b3b95e8</td>\n",
              "      <td>c7340080e394356141681bd4c9b8fe31</td>\n",
              "      <td>delivered</td>\n",
              "      <td>2017-11-24 21:27:48</td>\n",
              "      <td>2017-11-25 00:21:09</td>\n",
              "      <td>2017-12-28 18:59:23</td>\n",
              "      <td>2017-12-21</td>\n",
              "      <td>1</td>\n",
              "      <td>credit_card</td>\n",
              "      <td>10</td>\n",
              "      <td>356.12</td>\n",
              "      <td>3e4fd73f1e86b135b9b121d6abbe9597</td>\n",
              "      <td>19400</td>\n",
              "      <td>presidente venceslau</td>\n",
              "      <td>SP</td>\n",
              "      <td>1</td>\n",
              "      <td>be021417a6acb56b9b50d3fd2714baa8</td>\n",
              "      <td>f5f46307a4d15880ca14fab4ad9dfc9b</td>\n",
              "      <td>2017-11-30 00:21:09</td>\n",
              "      <td>339.00</td>\n",
              "      <td>17.12</td>\n",
              "      <td>utilidades_domesticas</td>\n",
              "      <td>48.0</td>\n",
              "      <td>664.0</td>\n",
              "      <td>6.0</td>\n",
              "      <td>14300.0</td>\n",
              "      <td>38.0</td>\n",
              "      <td>34.0</td>\n",
              "      <td>34.0</td>\n",
              "      <td>housewares</td>\n",
              "      <td>0</td>\n",
              "      <td>Inicialmente, na data da compra o produto era ...</td>\n",
              "      <td>2017</td>\n",
              "      <td>11</td>\n",
              "      <td>Nov</td>\n",
              "      <td>201711</td>\n",
              "      <td>20171124</td>\n",
              "      <td>Nov-17</td>\n",
              "      <td>24</td>\n",
              "      <td>4</td>\n",
              "      <td>Fri</td>\n",
              "      <td>21</td>\n",
              "      <td>Night</td>\n",
              "      <td>33</td>\n",
              "      <td>22</td>\n",
              "    </tr>\n",
              "  </tbody>\n",
              "</table>\n",
              "</div>"
            ],
            "text/plain": [
              "                           order_id  ... words_per_review\n",
              "0  e481f51cbdc54678b7cc49136f2d6af7  ...               32\n",
              "3  128e10d95713541c87cd1a2e48201934  ...               16\n",
              "4  0e7e841ddf8f8f2de2bad69267ecfbcf  ...               12\n",
              "5  bfc39df4f36c3693ff3b63fcbea9e90a  ...                1\n",
              "6  6ea2f835b4556291ffdc53fa0b3b95e8  ...               22\n",
              "\n",
              "[5 rows x 45 columns]"
            ]
          },
          "metadata": {
            "tags": []
          },
          "execution_count": 9
        }
      ]
    },
    {
      "cell_type": "markdown",
      "metadata": {
        "id": "oygbAk247Fpd"
      },
      "source": [
        "#1.Data Preprocessing"
      ]
    },
    {
      "cell_type": "markdown",
      "metadata": {
        "id": "47z3jAY1nBLq"
      },
      "source": [
        "## Preprocessing Review Text"
      ]
    },
    {
      "cell_type": "code",
      "metadata": {
        "colab": {
          "base_uri": "https://localhost:8080/"
        },
        "id": "iHXOvQGok_fj",
        "outputId": "b7a9f9c7-6df2-45e6-a4a6-08e6d4bd5683"
      },
      "source": [
        "#text data preprocessing\n",
        "import nltk\n",
        "nltk.download('stopwords')\n",
        "from nltk.corpus import stopwords\n",
        "import nltk\n",
        "nltk.download('rslp')"
      ],
      "execution_count": null,
      "outputs": [
        {
          "output_type": "stream",
          "text": [
            "[nltk_data] Downloading package stopwords to /root/nltk_data...\n",
            "[nltk_data]   Unzipping corpora/stopwords.zip.\n",
            "[nltk_data] Downloading package rslp to /root/nltk_data...\n",
            "[nltk_data]   Unzipping stemmers/rslp.zip.\n"
          ],
          "name": "stdout"
        },
        {
          "output_type": "execute_result",
          "data": {
            "text/plain": [
              "True"
            ]
          },
          "metadata": {
            "tags": []
          },
          "execution_count": 5
        }
      ]
    },
    {
      "cell_type": "code",
      "metadata": {
        "colab": {
          "base_uri": "https://localhost:8080/"
        },
        "id": "Hz-mF4STlLuj",
        "outputId": "d6212257-bc86-43a1-e802-175016d0d6f2"
      },
      "source": [
        "# portugese language stopwords\n",
        "stopwords_pt = stopwords.words(\"portuguese\")\n",
        "print(f'Total portuguese stopwords in the nltk.corpous module: {len(stopwords_pt)}')\n",
        "print('Few Stopwords:',stopwords_pt[0:20])"
      ],
      "execution_count": null,
      "outputs": [
        {
          "output_type": "stream",
          "text": [
            "Total portuguese stopwords in the nltk.corpous module: 204\n",
            "Few Stopwords: ['de', 'a', 'o', 'que', 'e', 'é', 'do', 'da', 'em', 'um', 'para', 'com', 'não', 'uma', 'os', 'no', 'se', 'na', 'por', 'mais']\n"
          ],
          "name": "stdout"
        }
      ]
    },
    {
      "cell_type": "code",
      "metadata": {
        "id": "hDlQak1vlL_N"
      },
      "source": [
        "#removing 'nao' & 'nem'\n",
        "stopwords_pt.remove('não')\n",
        "stopwords_pt.remove('nem')"
      ],
      "execution_count": null,
      "outputs": []
    },
    {
      "cell_type": "code",
      "metadata": {
        "colab": {
          "base_uri": "https://localhost:8080/"
        },
        "id": "21oTRHGxoIIr",
        "outputId": "e9ba41e3-3a22-499f-9fa6-1181841765d0"
      },
      "source": [
        "data['review_comment_message'].head(5)"
      ],
      "execution_count": null,
      "outputs": [
        {
          "output_type": "execute_result",
          "data": {
            "text/plain": [
              "0    Não testei o produto ainda, mas ele veio corre...\n",
              "3    Deveriam embalar melhor o produto. A caixa vei...\n",
              "4    Só achei ela pequena pra seis xícaras ,mais é ...\n",
              "5                                           nao_reveja\n",
              "6    Inicialmente, na data da compra o produto era ...\n",
              "Name: review_comment_message, dtype: object"
            ]
          },
          "metadata": {
            "tags": []
          },
          "execution_count": 10
        }
      ]
    },
    {
      "cell_type": "code",
      "metadata": {
        "id": "Ud-TXIvcvF6j"
      },
      "source": [
        "hyperlinks = 'http[s]?://(?:[a-zA-Z]|[0-9]|[$-_@.&+]|[!*\\(\\),]|(?:%[0-9a-fA-F][0-9a-fA-F]))+' # check for hyperlinks\n",
        "dates = '([0-2][0-9]|(3)[0-1])(\\/|\\.)(((0)[0-9])|((1)[0-2]))(\\/|\\.)\\d{2,4}' # check for dates\n",
        "currency_symbols = '[R]{0,1}\\$[ ]{0,}\\d+(,|\\.)\\d+' # check for currency symbols"
      ],
      "execution_count": null,
      "outputs": []
    },
    {
      "cell_type": "code",
      "metadata": {
        "id": "77tmSQbKlMCo"
      },
      "source": [
        "#https://www.kaggle.com/camillafonseca/nlp-an-lise-de-sentimento-do-olist-para-iniciantes\n",
        "#https://www.kaggle.com/thiagopanini/e-commerce-sentiment-analysis-eda-viz-nlp\n",
        "def preprocess_text(texts):\n",
        "    \n",
        "    preprocessed_text = []\n",
        "    stemmer = RSLPStemmer() # portugese nltk stemmer\n",
        "    for sent in tqdm(texts):\n",
        "        sent = re.sub(r\"[\\n\\t\\-\\\\\\/]\",\" \",sent)#removing the new line,tab  \n",
        "        sent = re.sub(hyperlinks, ' url ', sent) # replacing hyperlinks with 'url'\n",
        "        sent = re.sub(dates, ' ', sent) # removing dates\n",
        "        sent = re.sub(currency_symbols, ' dinheiro ', sent) # replacing currency symbols with 'dinheiro'\n",
        "        sent = re.sub('[0-9]+', ' numero ', sent) # removing digits\n",
        "        sent = re.sub('([nN][ãÃaA][oO]|[ñÑ]| [nN] )', ' negação ', sent) # replacing no with negative\n",
        "        sent = re.sub('\\W', ' ', sent) # removing extra whitespaces\n",
        "        sent = re.sub('\\s+', ' ', sent) # removing extra spaces\n",
        "        sent = ' '.join(e for e in sent.split() if e.lower() not in stopwords_pt) # removing stopwords\n",
        "        sent = ' '.join(stemmer.stem(e.lower()) for e in sent.split()) # stemming the words\n",
        "        preprocessed_text.append(sent.lower().strip())\n",
        "        \n",
        "    return preprocessed_text"
      ],
      "execution_count": null,
      "outputs": []
    },
    {
      "cell_type": "code",
      "metadata": {
        "colab": {
          "base_uri": "https://localhost:8080/"
        },
        "id": "b3gI4Z10t4KY",
        "outputId": "1102655b-cfea-4c75-e4c2-6bd17bef2458"
      },
      "source": [
        "processed_text = preprocess_text(data['review_comment_message'].values)"
      ],
      "execution_count": null,
      "outputs": [
        {
          "output_type": "stream",
          "text": [
            "100%|██████████| 97255/97255 [00:23<00:00, 4059.36it/s]\n"
          ],
          "name": "stderr"
        }
      ]
    },
    {
      "cell_type": "code",
      "metadata": {
        "colab": {
          "base_uri": "https://localhost:8080/"
        },
        "id": "bVEaHHcOyxjI",
        "outputId": "35de66f6-805e-4d52-bc97-cfef61dac54e"
      },
      "source": [
        "data['review_comment_message'] = processed_text\n",
        "data['review_comment_message'].head(5)"
      ],
      "execution_count": null,
      "outputs": [
        {
          "output_type": "execute_result",
          "data": {
            "text/plain": [
              "0    neg test produt aind vei corret boa cond apen ...\n",
              "3    dev embal melhor produt caix vei tod amass vou...\n",
              "4                   ach pequen pra seil xíc bom produt\n",
              "5                                           neg _revej\n",
              "6    inic dat compr produt ser entreg numer numer h...\n",
              "Name: review_comment_message, dtype: object"
            ]
          },
          "metadata": {
            "tags": []
          },
          "execution_count": 14
        }
      ]
    },
    {
      "cell_type": "code",
      "metadata": {
        "id": "gR2MO3rMgVbP"
      },
      "source": [
        "col= ['order_id',\n",
        " 'customer_id',\n",
        " 'order_purchase_timestamp',\n",
        " 'order_approved_at',\n",
        " 'order_delivered_customer_date',\n",
        " 'order_estimated_delivery_date',\n",
        "  'customer_unique_id',\n",
        " 'order_item_id',\n",
        " 'product_id',\n",
        " 'seller_id',\n",
        " 'shipping_limit_date',\n",
        " 'order_purchase_month_name',\n",
        " 'order_purchase_year_month',\n",
        " 'order_purchase_date',\n",
        " 'order_purchase_month_yr',\n",
        " 'order_purchase_day',\n",
        " 'order_purchase_dayofweek',\n",
        " 'order_purchase_dayofweek_name',\n",
        " 'order_purchase_hour',\n",
        " 'order_purchase_time_day','customer_city','customer_zip_code_prefix','product_category_name']"
      ],
      "execution_count": null,
      "outputs": []
    },
    {
      "cell_type": "code",
      "metadata": {
        "id": "tTapMWUrBgPY"
      },
      "source": [
        "data.drop(columns=col,axis=1,inplace=True)"
      ],
      "execution_count": null,
      "outputs": []
    },
    {
      "cell_type": "code",
      "metadata": {
        "colab": {
          "base_uri": "https://localhost:8080/",
          "height": 296
        },
        "id": "pe1SeYr2VDHO",
        "outputId": "4fcf65bf-62ec-4579-a7f0-6a437426081d"
      },
      "source": [
        "data.head()"
      ],
      "execution_count": null,
      "outputs": [
        {
          "output_type": "execute_result",
          "data": {
            "text/html": [
              "<div>\n",
              "<style scoped>\n",
              "    .dataframe tbody tr th:only-of-type {\n",
              "        vertical-align: middle;\n",
              "    }\n",
              "\n",
              "    .dataframe tbody tr th {\n",
              "        vertical-align: top;\n",
              "    }\n",
              "\n",
              "    .dataframe thead th {\n",
              "        text-align: right;\n",
              "    }\n",
              "</style>\n",
              "<table border=\"1\" class=\"dataframe\">\n",
              "  <thead>\n",
              "    <tr style=\"text-align: right;\">\n",
              "      <th></th>\n",
              "      <th>order_status</th>\n",
              "      <th>payment_sequential</th>\n",
              "      <th>payment_type</th>\n",
              "      <th>payment_installments</th>\n",
              "      <th>payment_value</th>\n",
              "      <th>customer_state</th>\n",
              "      <th>price</th>\n",
              "      <th>freight_value</th>\n",
              "      <th>product_name_lenght</th>\n",
              "      <th>product_description_lenght</th>\n",
              "      <th>product_photos_qty</th>\n",
              "      <th>product_weight_g</th>\n",
              "      <th>product_length_cm</th>\n",
              "      <th>product_height_cm</th>\n",
              "      <th>product_width_cm</th>\n",
              "      <th>product_category_name_english</th>\n",
              "      <th>review_score</th>\n",
              "      <th>review_comment_message</th>\n",
              "      <th>order_purchase_year</th>\n",
              "      <th>order_purchase_month</th>\n",
              "      <th>day_to_delivery</th>\n",
              "      <th>words_per_review</th>\n",
              "    </tr>\n",
              "  </thead>\n",
              "  <tbody>\n",
              "    <tr>\n",
              "      <th>0</th>\n",
              "      <td>delivered</td>\n",
              "      <td>1</td>\n",
              "      <td>credit_card</td>\n",
              "      <td>1</td>\n",
              "      <td>18.12</td>\n",
              "      <td>SP</td>\n",
              "      <td>29.99</td>\n",
              "      <td>8.72</td>\n",
              "      <td>40.0</td>\n",
              "      <td>268.0</td>\n",
              "      <td>4.0</td>\n",
              "      <td>500.0</td>\n",
              "      <td>19.0</td>\n",
              "      <td>8.0</td>\n",
              "      <td>13.0</td>\n",
              "      <td>housewares</td>\n",
              "      <td>1</td>\n",
              "      <td>neg test produt aind vei corret boa cond apen ...</td>\n",
              "      <td>2017</td>\n",
              "      <td>10</td>\n",
              "      <td>8</td>\n",
              "      <td>32</td>\n",
              "    </tr>\n",
              "    <tr>\n",
              "      <th>3</th>\n",
              "      <td>delivered</td>\n",
              "      <td>1</td>\n",
              "      <td>credit_card</td>\n",
              "      <td>3</td>\n",
              "      <td>37.77</td>\n",
              "      <td>SP</td>\n",
              "      <td>29.99</td>\n",
              "      <td>7.78</td>\n",
              "      <td>40.0</td>\n",
              "      <td>268.0</td>\n",
              "      <td>4.0</td>\n",
              "      <td>500.0</td>\n",
              "      <td>19.0</td>\n",
              "      <td>8.0</td>\n",
              "      <td>13.0</td>\n",
              "      <td>housewares</td>\n",
              "      <td>1</td>\n",
              "      <td>dev embal melhor produt caix vei tod amass vou...</td>\n",
              "      <td>2017</td>\n",
              "      <td>8</td>\n",
              "      <td>2</td>\n",
              "      <td>16</td>\n",
              "    </tr>\n",
              "    <tr>\n",
              "      <th>4</th>\n",
              "      <td>delivered</td>\n",
              "      <td>1</td>\n",
              "      <td>credit_card</td>\n",
              "      <td>1</td>\n",
              "      <td>37.77</td>\n",
              "      <td>SP</td>\n",
              "      <td>29.99</td>\n",
              "      <td>7.78</td>\n",
              "      <td>40.0</td>\n",
              "      <td>268.0</td>\n",
              "      <td>4.0</td>\n",
              "      <td>500.0</td>\n",
              "      <td>19.0</td>\n",
              "      <td>8.0</td>\n",
              "      <td>13.0</td>\n",
              "      <td>housewares</td>\n",
              "      <td>1</td>\n",
              "      <td>ach pequen pra seil xíc bom produt</td>\n",
              "      <td>2017</td>\n",
              "      <td>8</td>\n",
              "      <td>5</td>\n",
              "      <td>12</td>\n",
              "    </tr>\n",
              "    <tr>\n",
              "      <th>5</th>\n",
              "      <td>delivered</td>\n",
              "      <td>1</td>\n",
              "      <td>boleto</td>\n",
              "      <td>1</td>\n",
              "      <td>44.09</td>\n",
              "      <td>SC</td>\n",
              "      <td>29.99</td>\n",
              "      <td>14.10</td>\n",
              "      <td>40.0</td>\n",
              "      <td>268.0</td>\n",
              "      <td>4.0</td>\n",
              "      <td>500.0</td>\n",
              "      <td>19.0</td>\n",
              "      <td>8.0</td>\n",
              "      <td>13.0</td>\n",
              "      <td>housewares</td>\n",
              "      <td>1</td>\n",
              "      <td>neg _revej</td>\n",
              "      <td>2017</td>\n",
              "      <td>10</td>\n",
              "      <td>14</td>\n",
              "      <td>1</td>\n",
              "    </tr>\n",
              "    <tr>\n",
              "      <th>6</th>\n",
              "      <td>delivered</td>\n",
              "      <td>1</td>\n",
              "      <td>credit_card</td>\n",
              "      <td>10</td>\n",
              "      <td>356.12</td>\n",
              "      <td>SP</td>\n",
              "      <td>339.00</td>\n",
              "      <td>17.12</td>\n",
              "      <td>48.0</td>\n",
              "      <td>664.0</td>\n",
              "      <td>6.0</td>\n",
              "      <td>14300.0</td>\n",
              "      <td>38.0</td>\n",
              "      <td>34.0</td>\n",
              "      <td>34.0</td>\n",
              "      <td>housewares</td>\n",
              "      <td>0</td>\n",
              "      <td>inic dat compr produt ser entreg numer numer h...</td>\n",
              "      <td>2017</td>\n",
              "      <td>11</td>\n",
              "      <td>33</td>\n",
              "      <td>22</td>\n",
              "    </tr>\n",
              "  </tbody>\n",
              "</table>\n",
              "</div>"
            ],
            "text/plain": [
              "  order_status  payment_sequential  ... day_to_delivery  words_per_review\n",
              "0    delivered                   1  ...               8                32\n",
              "3    delivered                   1  ...               2                16\n",
              "4    delivered                   1  ...               5                12\n",
              "5    delivered                   1  ...              14                 1\n",
              "6    delivered                   1  ...              33                22\n",
              "\n",
              "[5 rows x 22 columns]"
            ]
          },
          "metadata": {
            "tags": []
          },
          "execution_count": 17
        }
      ]
    },
    {
      "cell_type": "markdown",
      "metadata": {
        "id": "N--xnkmGiNNm"
      },
      "source": [
        "<h3>Splitting data into Train and Test: Stratified Sampling</h3>\n"
      ]
    },
    {
      "cell_type": "code",
      "metadata": {
        "colab": {
          "base_uri": "https://localhost:8080/",
          "height": 193
        },
        "id": "XgRaWFdzSGqr",
        "outputId": "5f73b9fe-b47b-496c-d243-7cb4863cbad5"
      },
      "source": [
        "y = data['review_score'].values\n",
        "X = data.drop(['review_score'], axis=1)\n",
        "print(\"      X \",\"        y\")\n",
        "print(X.shape,y.shape)\n",
        "print('\\n')\n",
        "X.head(1)   "
      ],
      "execution_count": null,
      "outputs": [
        {
          "output_type": "stream",
          "text": [
            "      X          y\n",
            "(97255, 21) (97255,)\n",
            "\n",
            "\n"
          ],
          "name": "stdout"
        },
        {
          "output_type": "execute_result",
          "data": {
            "text/html": [
              "<div>\n",
              "<style scoped>\n",
              "    .dataframe tbody tr th:only-of-type {\n",
              "        vertical-align: middle;\n",
              "    }\n",
              "\n",
              "    .dataframe tbody tr th {\n",
              "        vertical-align: top;\n",
              "    }\n",
              "\n",
              "    .dataframe thead th {\n",
              "        text-align: right;\n",
              "    }\n",
              "</style>\n",
              "<table border=\"1\" class=\"dataframe\">\n",
              "  <thead>\n",
              "    <tr style=\"text-align: right;\">\n",
              "      <th></th>\n",
              "      <th>order_status</th>\n",
              "      <th>payment_sequential</th>\n",
              "      <th>payment_type</th>\n",
              "      <th>payment_installments</th>\n",
              "      <th>payment_value</th>\n",
              "      <th>customer_state</th>\n",
              "      <th>price</th>\n",
              "      <th>freight_value</th>\n",
              "      <th>product_name_lenght</th>\n",
              "      <th>product_description_lenght</th>\n",
              "      <th>product_photos_qty</th>\n",
              "      <th>product_weight_g</th>\n",
              "      <th>product_length_cm</th>\n",
              "      <th>product_height_cm</th>\n",
              "      <th>product_width_cm</th>\n",
              "      <th>product_category_name_english</th>\n",
              "      <th>review_comment_message</th>\n",
              "      <th>order_purchase_year</th>\n",
              "      <th>order_purchase_month</th>\n",
              "      <th>day_to_delivery</th>\n",
              "      <th>words_per_review</th>\n",
              "    </tr>\n",
              "  </thead>\n",
              "  <tbody>\n",
              "    <tr>\n",
              "      <th>0</th>\n",
              "      <td>delivered</td>\n",
              "      <td>1</td>\n",
              "      <td>credit_card</td>\n",
              "      <td>1</td>\n",
              "      <td>18.12</td>\n",
              "      <td>SP</td>\n",
              "      <td>29.99</td>\n",
              "      <td>8.72</td>\n",
              "      <td>40.0</td>\n",
              "      <td>268.0</td>\n",
              "      <td>4.0</td>\n",
              "      <td>500.0</td>\n",
              "      <td>19.0</td>\n",
              "      <td>8.0</td>\n",
              "      <td>13.0</td>\n",
              "      <td>housewares</td>\n",
              "      <td>neg test produt aind vei corret boa cond apen ...</td>\n",
              "      <td>2017</td>\n",
              "      <td>10</td>\n",
              "      <td>8</td>\n",
              "      <td>32</td>\n",
              "    </tr>\n",
              "  </tbody>\n",
              "</table>\n",
              "</div>"
            ],
            "text/plain": [
              "  order_status  payment_sequential  ... day_to_delivery  words_per_review\n",
              "0    delivered                   1  ...               8                32\n",
              "\n",
              "[1 rows x 21 columns]"
            ]
          },
          "metadata": {
            "tags": []
          },
          "execution_count": 16
        }
      ]
    },
    {
      "cell_type": "code",
      "metadata": {
        "colab": {
          "base_uri": "https://localhost:8080/"
        },
        "id": "SUwljGsJR8P5",
        "outputId": "8ee762dd-660a-4c18-92d6-198bce5821a9"
      },
      "source": [
        "# train test split\n",
        "from sklearn.model_selection import train_test_split\n",
        "X_train, X_test, y_train, y_test = train_test_split(X, y, test_size=0.2, stratify=y,random_state=25)\n",
        "\n",
        "\n",
        "print(\" X_train\",\"   y_train\")\n",
        "print(X_train.shape,y_train.shape)\n",
        "print('-'*15)\n",
        "print(\"X_test\",\"    y_test\")\n",
        "print(X_test.shape,y_test.shape)"
      ],
      "execution_count": null,
      "outputs": [
        {
          "output_type": "stream",
          "text": [
            " X_train    y_train\n",
            "(77804, 21) (77804,)\n",
            "---------------\n",
            "X_test     y_test\n",
            "(19451, 21) (19451,)\n"
          ],
          "name": "stdout"
        }
      ]
    },
    {
      "cell_type": "code",
      "metadata": {
        "id": "EYXD7XEV5e5a"
      },
      "source": [
        "pickle.dump(X_train,open('X_train.pkl','wb'))\n",
        "pickle.dump(X_test,open('X_test.pkl','wb'))\n",
        "pickle.dump(y_train,open('y_train.pkl','wb'))\n",
        "pickle.dump(y_test,open('y_test.pkl','wb'))"
      ],
      "execution_count": null,
      "outputs": []
    },
    {
      "cell_type": "code",
      "metadata": {
        "id": "lr6cY5wzY9QZ"
      },
      "source": [
        ""
      ],
      "execution_count": null,
      "outputs": []
    },
    {
      "cell_type": "markdown",
      "metadata": {
        "id": "2jMO_pdzz10E"
      },
      "source": [
        "#2.Featurization"
      ]
    },
    {
      "cell_type": "markdown",
      "metadata": {
        "id": "U8_zsSEYR007"
      },
      "source": [
        "## Encoding Categorical Features\n",
        "\n",
        "\n",
        "\n"
      ]
    },
    {
      "cell_type": "markdown",
      "metadata": {
        "id": "l6E1LlTtiazt"
      },
      "source": [
        "### Encoding Categorical Features: order_status"
      ]
    },
    {
      "cell_type": "code",
      "metadata": {
        "colab": {
          "base_uri": "https://localhost:8080/"
        },
        "id": "DhQwXS42QEwt",
        "outputId": "1b071db5-f0c4-4597-ee0b-a30d1bcd597b"
      },
      "source": [
        "vect_os_tr = CountVectorizer(binary= True)\n",
        "vect_os_tr.fit(X_train['order_status'].values) # fit has to happen only on train data\n",
        "\n",
        "# we use the fitted CountVectorizer to convert the text to vector\n",
        "order_st_tr = vect_os_tr.transform(X_train['order_status'].values)\n",
        "\n",
        "order_st_te = vect_os_tr.transform(X_test['order_status'].values)\n",
        "name_os =vect_os_tr.get_feature_names()\n",
        "\n",
        "print(\"After vectorizations\")\n",
        "print(order_st_tr.shape, y_train.shape)\n",
        "print(order_st_tr.shape, y_test.shape)\n",
        "print(name_os)"
      ],
      "execution_count": null,
      "outputs": [
        {
          "output_type": "stream",
          "text": [
            "After vectorizations\n",
            "(77804, 7) (77804,)\n",
            "(77804, 7) (19451,)\n",
            "['approved', 'canceled', 'delivered', 'invoiced', 'processing', 'shipped', 'unavailable']\n"
          ],
          "name": "stdout"
        }
      ]
    },
    {
      "cell_type": "markdown",
      "metadata": {
        "id": "dHYKqgTfiraa"
      },
      "source": [
        "### Encoding Categorical Features:payment_type"
      ]
    },
    {
      "cell_type": "code",
      "metadata": {
        "colab": {
          "base_uri": "https://localhost:8080/"
        },
        "id": "VNMrk9EBQEzd",
        "outputId": "fbf1e925-286f-47f1-d7f2-68d821bdae7d"
      },
      "source": [
        "vectorizer = CountVectorizer(binary= True)\n",
        "vectorizer.fit(X_train['payment_type'].values) # fit has to happen only on train data\n",
        "\n",
        "# we use the fitted CountVectorizer to convert the text to vector\n",
        "pay_typ_tr = vectorizer.transform(X_train['payment_type'].values)\n",
        "\n",
        "pay_typ_te = vectorizer.transform(X_test['payment_type'].values)\n",
        "name_typ = vectorizer.get_feature_names()\n",
        "print(\"After vectorizations\")\n",
        "print(pay_typ_tr.shape, y_train.shape)\n",
        "print(pay_typ_tr.shape, y_test.shape)\n"
      ],
      "execution_count": null,
      "outputs": [
        {
          "output_type": "stream",
          "text": [
            "After vectorizations\n",
            "(77804, 4) (77804,)\n",
            "(77804, 4) (19451,)\n"
          ],
          "name": "stdout"
        }
      ]
    },
    {
      "cell_type": "markdown",
      "metadata": {
        "id": "GNavCos_ivBk"
      },
      "source": [
        "### Encoding Categorical Features:product_category_name_english"
      ]
    },
    {
      "cell_type": "code",
      "metadata": {
        "colab": {
          "base_uri": "https://localhost:8080/"
        },
        "id": "t-x8u-e0QE3d",
        "outputId": "90f9b57e-9e3d-4bf6-fd6d-5b793d4590b2"
      },
      "source": [
        "vectorizer = CountVectorizer(binary= True)\n",
        "vectorizer.fit(X_train['product_category_name_english'].values) # fit has to happen only on train data\n",
        "\n",
        "# we use the fitted CountVectorizer to convert the text to vector\n",
        "prod_cat_tr = vectorizer.transform(X_train['product_category_name_english'].values)\n",
        "\n",
        "prod_cat_te = vectorizer.transform(X_test['product_category_name_english'].values)\n",
        "name_prd = vectorizer.get_feature_names()\n",
        "print(\"After vectorizations\")\n",
        "print(prod_cat_tr.shape, y_train.shape)\n",
        "print(prod_cat_tr.shape, y_test.shape)"
      ],
      "execution_count": null,
      "outputs": [
        {
          "output_type": "stream",
          "text": [
            "After vectorizations\n",
            "(77804, 71) (77804,)\n",
            "(77804, 71) (19451,)\n"
          ],
          "name": "stdout"
        }
      ]
    },
    {
      "cell_type": "markdown",
      "metadata": {
        "id": "Es_rIm1gi3xN"
      },
      "source": [
        "### Encoding Categorical Features: customer_state"
      ]
    },
    {
      "cell_type": "code",
      "metadata": {
        "colab": {
          "base_uri": "https://localhost:8080/"
        },
        "id": "TTV1p9GQQE5g",
        "outputId": "9ce96326-613a-4c8e-fc6e-e7e52ebd613f"
      },
      "source": [
        "vectorizer = CountVectorizer(binary= True)\n",
        "vectorizer.fit(X_train['customer_state'].values) # fit has to happen only on train data\n",
        "\n",
        "# we use the fitted CountVectorizer to convert the text to vector\n",
        "state_tr = vectorizer.transform(X_train['customer_state'].values)\n",
        "\n",
        "state_te = vectorizer.transform(X_test['customer_state'].values)\n",
        "name_st = vectorizer.get_feature_names()\n",
        "\n",
        "print(\"After vectorizations\")\n",
        "print(state_tr.shape, y_train.shape)\n",
        "print(state_tr.shape, y_test.shape)"
      ],
      "execution_count": null,
      "outputs": [
        {
          "output_type": "stream",
          "text": [
            "After vectorizations\n",
            "(77804, 27) (77804,)\n",
            "(77804, 27) (19451,)\n"
          ],
          "name": "stdout"
        }
      ]
    },
    {
      "cell_type": "markdown",
      "metadata": {
        "id": "3K59lQyUi_rZ"
      },
      "source": [
        "## Featurization of text data"
      ]
    },
    {
      "cell_type": "code",
      "metadata": {
        "id": "xaR0rP-0_-GE"
      },
      "source": [
        "import fasttext.util\n",
        "fasttext.util.download_model('pt', if_exists='ignore')  #Portuguese"
      ],
      "execution_count": null,
      "outputs": []
    },
    {
      "cell_type": "code",
      "metadata": {
        "id": "2D2j7GCbQFBr"
      },
      "source": [
        "from gensim.models import FastText\n",
        "ft_model = FastText.load_fasttext_format('/content/drive/MyDrive/case study/cc.pt.300.bin')"
      ],
      "execution_count": null,
      "outputs": []
    },
    {
      "cell_type": "code",
      "metadata": {
        "colab": {
          "base_uri": "https://localhost:8080/"
        },
        "id": "Vr9rOVmpQFI4",
        "outputId": "d71fefbd-5f2c-47a0-b128-df3527d78cad"
      },
      "source": [
        "ft_model.wv['melhor'].shape"
      ],
      "execution_count": null,
      "outputs": [
        {
          "output_type": "execute_result",
          "data": {
            "text/plain": [
              "(300,)"
            ]
          },
          "metadata": {
            "tags": []
          },
          "execution_count": 19
        }
      ]
    },
    {
      "cell_type": "code",
      "metadata": {
        "colab": {
          "base_uri": "https://localhost:8080/"
        },
        "id": "SAlwq2lxQFLA",
        "outputId": "3cc4dda3-1b16-455b-f306-de7c41ef8045"
      },
      "source": [
        "ft_model.similar_by_vector('produt')"
      ],
      "execution_count": null,
      "outputs": [
        {
          "output_type": "execute_result",
          "data": {
            "text/plain": [
              "[('produts', 0.6906509399414062),\n",
              " ('produ', 0.6056191921234131),\n",
              " ('produtoa', 0.5977535843849182),\n",
              " ('produe', 0.57929527759552),\n",
              " ('produto', 0.5772074460983276),\n",
              " ('produtos', 0.5754655003547668),\n",
              " ('produtoo', 0.5647249221801758),\n",
              " ('protudo', 0.5558850765228271),\n",
              " ('produtoe', 0.5553520321846008),\n",
              " ('vend', 0.5546207427978516)]"
            ]
          },
          "metadata": {
            "tags": []
          },
          "execution_count": 20
        }
      ]
    },
    {
      "cell_type": "code",
      "metadata": {
        "id": "Vksh_XvlV72A"
      },
      "source": [
        "def tfidfWord2Vector(text,ft_words,tfidf_words,tf_values):\n",
        "    # average Word2Vec\n",
        "    # compute average word2vec for each review.\n",
        "    tfidf_w2v_vectors = []; # the avg-w2v for each sentence/review is stored in this list\n",
        "    for sentence in tqdm(text): # for each review/sentence\n",
        "        vector = np.zeros(300) # as word vectors are of zero length\n",
        "        tf_idf_weight =0; # num of words with a valid vector in the sentence/review\n",
        "        for word in sentence.split(): # for each word in a review/sentence\n",
        "            if (word in ft_words) and (word in tfidf_words):\n",
        "                vec = ft_model.wv[word] # embeddings[word] \n",
        "                # here we are multiplying idf value(dictionary[word]) and the tf value((sentence.count(word)/len(sentence.split())))\n",
        "                tf_idf = tf_values[word]*(sentence.count(word)/len(sentence.split())) # getting the tfidf value for each word\n",
        "                vector += (vec * tf_idf) # calculating tfidf weighted w2v\n",
        "                tf_idf_weight += tf_idf\n",
        "        if tf_idf_weight != 0:\n",
        "            vector /= tf_idf_weight\n",
        "        tfidf_w2v_vectors.append(vector)\n",
        "    tfidf_w2v_vectors = np.asarray(tfidf_w2v_vectors)\n",
        "    \n",
        "    return tfidf_w2v_vectors"
      ],
      "execution_count": null,
      "outputs": []
    },
    {
      "cell_type": "code",
      "metadata": {
        "colab": {
          "base_uri": "https://localhost:8080/"
        },
        "id": "deg3KVtXV75f",
        "outputId": "7de0bb7e-1698-4ef5-9c3c-646b8734af23"
      },
      "source": [
        "# encoding review comment message using Tfidf weighted W2V\n",
        "tfidf = TfidfVectorizer()\n",
        "tfidf.fit(X_train['review_comment_message'])\n",
        "\n",
        "\n",
        "# we are converting a dictionary with word as a key, and the idf as a value\n",
        "tf_values = dict(zip(tfidf.get_feature_names(), list(tfidf.idf_)))\n",
        "tfidf_words = set(tfidf.get_feature_names())\n",
        "ft_words = list(ft_model.wv.vocab.keys()) # list(embeddings.keys())\n",
        "\n",
        "tfidf_w2v_vectors_train = tfidfWord2Vector(X_train['review_comment_message'].values,ft_words,tfidf_words,tf_values)\n",
        "tfidf_w2v_vectors_test = tfidfWord2Vector(X_test['review_comment_message'].values,ft_words,tfidf_words,tf_values)"
      ],
      "execution_count": null,
      "outputs": [
        {
          "output_type": "stream",
          "text": [
            "100%|██████████| 77804/77804 [1:36:00<00:00, 13.51it/s]\n",
            "100%|██████████| 19451/19451 [23:56<00:00, 13.54it/s]\n"
          ],
          "name": "stderr"
        }
      ]
    },
    {
      "cell_type": "code",
      "metadata": {
        "id": "TUVqrNHuV78m"
      },
      "source": [
        "pickle.dump(tfidf_w2v_vectors_train,open('tfidf_w2v_vectors_train_1.pkl','wb'))\n",
        "pickle.dump(tfidf_w2v_vectors_test,open('tfidf_w2v_vectors_test_1.pkl','wb'))"
      ],
      "execution_count": null,
      "outputs": []
    },
    {
      "cell_type": "code",
      "metadata": {
        "id": "58psdvSuLMTb"
      },
      "source": [
        "tfidf_w2v_vectors_train = pickle.load( open('tfidf_w2v_vectors_train.pkl','rb'))"
      ],
      "execution_count": null,
      "outputs": []
    },
    {
      "cell_type": "code",
      "metadata": {
        "id": "qldYZbiJfWNT"
      },
      "source": [
        "tfidf_w2v_vectors_test = pickle.load( open('tfidf_w2v_vectors_test.pkl','rb'))"
      ],
      "execution_count": null,
      "outputs": []
    },
    {
      "cell_type": "markdown",
      "metadata": {
        "id": "ddnD0iCtXJgD"
      },
      "source": [
        "## Numerical_features"
      ]
    },
    {
      "cell_type": "code",
      "metadata": {
        "id": "uH_Nj5yqV8Ae"
      },
      "source": [
        "from sklearn.preprocessing import Normalizer\n",
        "def normalizer(col):\n",
        "  normalizer = Normalizer()\n",
        "  normalizer.fit(X_train[col].values.reshape(1,-1))\n",
        "  X_train_norm = normalizer.transform(X_train[col].values.reshape(-1,1))\n",
        "  X_test_norm = normalizer.transform(X_test[col].values.reshape(-1,1))\n",
        "  return X_train_norm,X_test_norm"
      ],
      "execution_count": null,
      "outputs": []
    },
    {
      "cell_type": "code",
      "metadata": {
        "id": "7HTMPdOA5DXU"
      },
      "source": [
        "# numerical features\n",
        "num=['payment_sequential',\n",
        " 'payment_installments',\n",
        " 'payment_value',\n",
        " 'price',\n",
        " 'freight_value',\n",
        " 'product_name_lenght',\n",
        " 'product_description_lenght',\n",
        " 'product_photos_qty',\n",
        " 'product_weight_g',\n",
        " 'product_length_cm',\n",
        " 'product_height_cm',\n",
        " 'product_width_cm',\n",
        " 'day_to_delivery']"
      ],
      "execution_count": null,
      "outputs": []
    },
    {
      "cell_type": "code",
      "metadata": {
        "id": "71SHPDvQ5Dat"
      },
      "source": [
        "tr=[]\n",
        "te=[]\n",
        "for i in num:\n",
        "  a,b = normalizer(i)\n",
        "  tr.append(a)\n",
        "  te.append(b)"
      ],
      "execution_count": null,
      "outputs": []
    },
    {
      "cell_type": "code",
      "metadata": {
        "colab": {
          "base_uri": "https://localhost:8080/"
        },
        "id": "GcDC_qkK5DkO",
        "outputId": "16740835-3515-42ac-b60c-3fd33826cdef"
      },
      "source": [
        "from scipy.sparse import hstack,csr_matrix\n",
        "import numpy as np\n",
        "\n",
        "X_tr_num = np.hstack((tr))\n",
        "X_te_num = np.hstack((te))\n",
        "\n",
        "\n",
        "print(\"Final Data matrix\")\n",
        "print(X_tr_num.shape, y_train.shape)\n",
        "print(X_te_num.shape, y_test.shape)"
      ],
      "execution_count": null,
      "outputs": [
        {
          "output_type": "stream",
          "text": [
            "Final Data matrix\n",
            "(77804, 13) (77804,)\n",
            "(19451, 13) (19451,)\n"
          ],
          "name": "stdout"
        }
      ]
    },
    {
      "cell_type": "code",
      "metadata": {
        "colab": {
          "base_uri": "https://localhost:8080/"
        },
        "id": "KgnT-DSWIlvU",
        "outputId": "f5a27747-bd29-48f7-f659-7809e6e8d1d8"
      },
      "source": [
        "# merge two sparse matrices: https://stackoverflow.com/a/19710648/4084039\n",
        "from scipy.sparse import hstack\n",
        "X_tr = hstack((tfidf_w2v_vectors_train,order_st_tr,pay_typ_tr,prod_cat_tr,state_tr,X_tr_num)).tocsr()\n",
        "X_te = hstack((tfidf_w2v_vectors_test,order_st_te,pay_typ_te,prod_cat_te,state_te,X_te_num)).tocsr()\n",
        "\n",
        "print(\"Final Data matrix\")\n",
        "print(X_tr.shape, y_train.shape)\n",
        "\n",
        "print(X_te.shape, y_test.shape)\n",
        "print(\"=\"*100)\n",
        "print('')"
      ],
      "execution_count": null,
      "outputs": [
        {
          "output_type": "stream",
          "text": [
            "Final Data matrix\n",
            "(77804, 422) (77804,)\n",
            "(19451, 422) (19451,)\n",
            "====================================================================================================\n",
            "\n"
          ],
          "name": "stdout"
        }
      ]
    },
    {
      "cell_type": "code",
      "metadata": {
        "id": "8wX-wev0k_CE"
      },
      "source": [
        "X_tr = pickle.load(open('X_tr.pkl', 'rb'))\n",
        "X_te = pickle.load(open('X_te.pkl', 'rb'))\n"
      ],
      "execution_count": null,
      "outputs": []
    },
    {
      "cell_type": "markdown",
      "metadata": {
        "id": "d6mIUjUmJciI"
      },
      "source": [
        "#3.Baseline Models"
      ]
    },
    {
      "cell_type": "markdown",
      "metadata": {
        "id": "9H9xHlrQ1A34"
      },
      "source": [
        "### Random Model"
      ]
    },
    {
      "cell_type": "code",
      "metadata": {
        "id": "zzZcW3o3i1L_"
      },
      "source": [
        "def confusion_matrices_plot(y_real, y_pred, y_test,y_test_pred):\n",
        "    # representing confusion matric in heatmap format\n",
        "    # https://seaborn.pydata.org/generated/seaborn.heatmap.html\n",
        "    cmap_ = sns.light_palette(\"#9f1c1c\",as_cmap=True)\n",
        "    cmap = sns.light_palette(\"#000000\",as_cmap=True)\n",
        "    C1 = confusion_matrix(y_real,y_pred)\n",
        "    C2 = confusion_matrix(y_test,y_test_pred)\n",
        "    \n",
        "    fig,ax = plt.subplots(1, 2, figsize=(15,5))\n",
        "    ax1 = sns.heatmap(C1, annot=True, cmap=cmap, fmt=\".2f\", ax = ax[0])\n",
        "    ax1.set_xlabel('Predicted Class')\n",
        "    ax1.set_ylabel('Original Class')\n",
        "    ax1.set_title(\"Train Confusion matrix\")\n",
        "\n",
        "    ax2 = sns.heatmap(C2, annot=True, cmap=cmap_, fmt=\".2f\", ax = ax[1])\n",
        "    ax2.set_xlabel('Predicted Class')\n",
        "    ax2.set_ylabel('Original Class')\n",
        "    ax2.set_title(\"Test Confusion matrix\")\n",
        "    \n",
        "    plt.show()"
      ],
      "execution_count": null,
      "outputs": []
    },
    {
      "cell_type": "code",
      "metadata": {
        "colab": {
          "base_uri": "https://localhost:8080/",
          "height": 387
        },
        "id": "QD83iIC11FA1",
        "outputId": "a95f5a47-1ee4-468f-b15d-bc8a351a1526"
      },
      "source": [
        "#creating random model\n",
        "test_data_len = X_te.shape[0]\n",
        "train_data_len = X_tr.shape[0]\n",
        "\n",
        "# we create a output array that has exactly same size as the CV data\n",
        "y_train_pred = np.zeros((train_data_len,1))\n",
        "for i in range(train_data_len):\n",
        "    rand_c = random.randint(0, 1)\n",
        "    y_train_pred[i] = (rand_c)\n",
        "print(\"Train f1-score\",f1_score(y_train,y_train_pred,))\n",
        "y_test_pred = np.zeros((test_data_len,1))\n",
        "for i in range(test_data_len):\n",
        "    rand_c = random.randint(0, 1)\n",
        "    y_test_pred[i] = (rand_c)\n",
        "print(\"Test f1-score\",f1_score(y_test,y_test_pred,))\n",
        "confusion_matrices_plot(y_train,y_train_pred,y_test,y_test_pred)\n"
      ],
      "execution_count": null,
      "outputs": [
        {
          "output_type": "stream",
          "text": [
            "Train f1-score 0.6324217156625592\n",
            "Test f1-score 0.6303351637947359\n"
          ],
          "name": "stdout"
        },
        {
          "output_type": "display_data",
          "data": {
            "image/png": "[encoded data removed]",
            "text/plain": [
              "<Figure size 1080x360 with 4 Axes>"
            ]
          },
          "metadata": {
            "tags": []
          }
        }
      ]
    },
    {
      "cell_type": "markdown",
      "metadata": {
        "id": "LSEI8dhXB994"
      },
      "source": [
        "### Naive Bayes Model"
      ]
    },
    {
      "cell_type": "code",
      "metadata": {
        "id": "pidUEjBUErCu"
      },
      "source": [
        "from sklearn.preprocessing import MinMaxScaler\n",
        "scaler = MinMaxScaler()\n",
        "scaler.fit(X_tr.todense())\n",
        "X_tr = scaler.transform(X_tr.todense())"
      ],
      "execution_count": null,
      "outputs": []
    },
    {
      "cell_type": "code",
      "metadata": {
        "id": "IIsv_dDfFuq5"
      },
      "source": [
        "scaler.fit(X_te.todense())\n",
        "X_te = scaler.transform(X_te.todense())"
      ],
      "execution_count": null,
      "outputs": []
    },
    {
      "cell_type": "code",
      "metadata": {
        "colab": {
          "base_uri": "https://localhost:8080/",
          "height": 482
        },
        "id": "U0J7Uw3knZQ5",
        "outputId": "dba9042d-9524-483f-a686-eef926126c76"
      },
      "source": [
        "# Training Logistic regression model and chekcing f1 score metric\n",
        "from sklearn.naive_bayes import MultinomialNB\n",
        "alpha = [10 ** x for x in range(-5, 4)]\n",
        "train_scores = [] # store train scores\n",
        "test_scores = [] # store test scores\n",
        "\n",
        "for i in alpha:\n",
        "    nb_cfl=MultinomialNB(alpha=i,fit_prior=False)\n",
        "    nb_cfl.fit(X_tr,y_train)\n",
        "    train_sc = f1_score(y_train,nb_cfl.predict(X_tr))\n",
        "    test_sc = f1_score(y_test,nb_cfl.predict(X_te))\n",
        "    test_scores.append(test_sc)\n",
        "    train_scores.append(train_sc)\n",
        "    print('Alpha = ',i,'Train Score',train_sc,'test Score',test_sc)\n",
        "    \n",
        "# plotting the scores vs parameters\n",
        "plt.plot(np.log(alpha),train_scores,label='Train Score',color='black')\n",
        "plt.plot(np.log(alpha),test_scores,label='Test Score',color='r',alpha=0.5)\n",
        "plt.xlabel('Alpha')\n",
        "plt.ylabel('Score')\n",
        "plt.grid()\n",
        "plt.title('Alpha vs Score')"
      ],
      "execution_count": null,
      "outputs": [
        {
          "output_type": "stream",
          "text": [
            "Alpha =  1e-05 Train Score 0.7634298166489538 test Score 0.7616975748930099\n",
            "Alpha =  0.0001 Train Score 0.7634298166489538 test Score 0.7616975748930099\n",
            "Alpha =  0.001 Train Score 0.7634298166489538 test Score 0.7616975748930099\n",
            "Alpha =  0.01 Train Score 0.7634298166489538 test Score 0.7616975748930099\n",
            "Alpha =  0.1 Train Score 0.7633745958594574 test Score 0.7616975748930099\n",
            "Alpha =  1 Train Score 0.7633745958594574 test Score 0.7616975748930099\n",
            "Alpha =  10 Train Score 0.7633814138346805 test Score 0.7616975748930099\n",
            "Alpha =  100 Train Score 0.7633541426644875 test Score 0.7616975748930099\n",
            "Alpha =  1000 Train Score 0.921802406940946 test Score 0.9039049431850954\n"
          ],
          "name": "stdout"
        },
        {
          "output_type": "execute_result",
          "data": {
            "text/plain": [
              "Text(0.5, 1.0, 'Alpha vs Score')"
            ]
          },
          "metadata": {
            "tags": []
          },
          "execution_count": 38
        },
        {
          "output_type": "display_data",
          "data": {
            "image/png": "[encoded data removed]",
            "text/plain": [
              "<Figure size 432x288 with 1 Axes>"
            ]
          },
          "metadata": {
            "tags": []
          }
        }
      ]
    },
    {
      "cell_type": "code",
      "metadata": {
        "colab": {
          "base_uri": "https://localhost:8080/"
        },
        "id": "SxIIYETFGgJf",
        "outputId": "4e24ec35-d687-4e2c-d0af-3a989acd1bc7"
      },
      "source": [
        "# Parameter tuning of Logistic regression using RandomisedSearch CV technique\n",
        "clf = MultinomialNB( class_prior=np.array([0.5,0.5]),fit_prior=False)\n",
        "\n",
        " \n",
        "prams={ 'alpha': [10 ** x for x in range(-5, 4)] }\n",
        "\n",
        "nb_cfl = RandomizedSearchCV(clf,param_distributions=prams,verbose=10,scoring='f1',n_jobs=-1,random_state=25,\n",
        "                               return_train_score=True)\n",
        "nb_cfl.fit(X_tr,y_train)\n",
        "\n",
        "print('mean test scores',nb_cfl.cv_results_['mean_test_score'])\n",
        "print('mean train scores',nb_cfl.cv_results_['mean_train_score'])"
      ],
      "execution_count": null,
      "outputs": [
        {
          "output_type": "stream",
          "text": [
            "Fitting 5 folds for each of 9 candidates, totalling 45 fits\n"
          ],
          "name": "stdout"
        },
        {
          "output_type": "stream",
          "text": [
            "[Parallel(n_jobs=-1)]: Using backend LokyBackend with 2 concurrent workers.\n",
            "[Parallel(n_jobs=-1)]: Done   1 tasks      | elapsed:    3.4s\n",
            "[Parallel(n_jobs=-1)]: Done   4 tasks      | elapsed:    4.1s\n",
            "[Parallel(n_jobs=-1)]: Done   9 tasks      | elapsed:    5.9s\n",
            "[Parallel(n_jobs=-1)]: Done  14 tasks      | elapsed:    7.1s\n",
            "[Parallel(n_jobs=-1)]: Done  21 tasks      | elapsed:    9.5s\n",
            "[Parallel(n_jobs=-1)]: Done  28 tasks      | elapsed:   11.4s\n",
            "[Parallel(n_jobs=-1)]: Done  37 tasks      | elapsed:   14.4s\n",
            "[Parallel(n_jobs=-1)]: Done  45 out of  45 | elapsed:   16.6s finished\n"
          ],
          "name": "stderr"
        },
        {
          "output_type": "stream",
          "text": [
            "mean test scores [0.76337571 0.76337571 0.76337571 0.76336462 0.763359   0.763359\n",
            " 0.76336582 0.7633249  0.92198522]\n",
            "mean train scores [0.76348643 0.76348643 0.76348643 0.76348368 0.7633798  0.76337874\n",
            " 0.76338044 0.76333272 0.92201565]\n"
          ],
          "name": "stdout"
        }
      ]
    },
    {
      "cell_type": "code",
      "metadata": {
        "colab": {
          "base_uri": "https://localhost:8080/"
        },
        "id": "wQmnGqH_G29H",
        "outputId": "f030e972-c40d-4343-f87f-8e12980309fe"
      },
      "source": [
        "# printing best parameters and score\n",
        "print(\"Best Parameters: \",nb_cfl.best_params_)\n",
        "print(\"Best Score: \",nb_cfl.best_score_)"
      ],
      "execution_count": null,
      "outputs": [
        {
          "output_type": "stream",
          "text": [
            "Best Parameters:  {'alpha': 1000}\n",
            "Best Score:  0.9219852193243891\n"
          ],
          "name": "stdout"
        }
      ]
    },
    {
      "cell_type": "code",
      "metadata": {
        "colab": {
          "base_uri": "https://localhost:8080/"
        },
        "id": "ItFa56vZIOiE",
        "outputId": "bcf626bc-b0a6-4320-db6e-87c7b0c52474"
      },
      "source": [
        "# https://scikit-learn.org/stable/modules/generated/sklearn.metrics.roc_curve.html#sklearn.metrics.roc_curve\n",
        "from sklearn.metrics import roc_curve, auc\n",
        "clf = MultinomialNB(alpha = 1000, class_prior=np.array([0.5,0.5]),fit_prior=False)\n",
        "clf.fit(X_tr, y_train)\n",
        "\n",
        "y_train_pred = clf.predict(X_tr)    \n",
        "y_test_pred = clf.predict(X_te)\n",
        "\n",
        "\n",
        "print('Train f1 score: ',f1_score(y_train,y_train_pred))\n",
        "print('Test f1 score: ',f1_score(y_test,y_test_pred))"
      ],
      "execution_count": null,
      "outputs": [
        {
          "output_type": "stream",
          "text": [
            "Train f1 score:  0.921802406940946\n",
            "Test f1 score:  0.9039049431850954\n"
          ],
          "name": "stdout"
        }
      ]
    },
    {
      "cell_type": "code",
      "metadata": {
        "colab": {
          "base_uri": "https://localhost:8080/",
          "height": 350
        },
        "id": "_y-uwdxBHYNz",
        "outputId": "ab2ea740-2d8b-4ac3-e81e-fab6fbdd0442"
      },
      "source": [
        "confusion_matrices_plot(y_train,y_train_pred,y_test,y_test_pred)"
      ],
      "execution_count": null,
      "outputs": [
        {
          "output_type": "display_data",
          "data": {
            "image/png": "[encoded data removed]",
            "text/plain": [
              "<Figure size 1080x360 with 4 Axes>"
            ]
          },
          "metadata": {
            "tags": []
          }
        }
      ]
    },
    {
      "cell_type": "code",
      "metadata": {
        "id": "XjfDRXb3Ilz1"
      },
      "source": [
        ""
      ],
      "execution_count": null,
      "outputs": []
    },
    {
      "cell_type": "markdown",
      "metadata": {
        "id": "e1f9_HFcHcum"
      },
      "source": [
        "### Logistic Regression Model"
      ]
    },
    {
      "cell_type": "code",
      "metadata": {
        "colab": {
          "base_uri": "https://localhost:8080/",
          "height": 482
        },
        "id": "ZCNEdcYQIl4b",
        "outputId": "d0866e5b-88c9-4b20-c1de-acce25b3fd9f"
      },
      "source": [
        "# Training Logistic regression model and chekcing f1 score metric\n",
        "alpha = [10 ** x for x in range(-5, 4)]\n",
        "train_scores = [] # store train scores\n",
        "test_scores = [] # store test scores\n",
        "\n",
        "for i in alpha:\n",
        "    lr = SGDClassifier(loss='log', penalty='l2', alpha=i, n_jobs=-1, random_state=25)\n",
        "    lr.fit(X_tr,y_train)\n",
        "    train_sc = f1_score(y_train,lr.predict(X_tr))\n",
        "    test_sc = f1_score(y_test,lr.predict(X_te))\n",
        "    test_scores.append(test_sc)\n",
        "    train_scores.append(train_sc)\n",
        "    print('Alpha = ',i,'Train Score',train_sc,'test Score',test_sc)\n",
        "    \n",
        "# plotting the scores vs parameters\n",
        "plt.plot(np.log(alpha),train_scores,label='Train Score',color='black')\n",
        "plt.plot(np.log(alpha),test_scores,label='Test Score',color='r',alpha=0.5)\n",
        "plt.xlabel('Alpha')\n",
        "plt.ylabel('Score')\n",
        "plt.grid()\n",
        "plt.title('Alpha vs Score')"
      ],
      "execution_count": null,
      "outputs": [
        {
          "output_type": "stream",
          "text": [
            "Alpha =  1e-05 Train Score 0.9430514332945111 test Score 0.9369113740642357\n",
            "Alpha =  0.0001 Train Score 0.9363511816417399 test Score 0.9354614850798058\n",
            "Alpha =  0.001 Train Score 0.9284656574801216 test Score 0.9363389810737511\n",
            "Alpha =  0.01 Train Score 0.925169120157172 test Score 0.9254055862184312\n",
            "Alpha =  0.1 Train Score 0.9217699801826522 test Score 0.9217849223946785\n",
            "Alpha =  1 Train Score 0.9217699801826522 test Score 0.9217849223946785\n",
            "Alpha =  10 Train Score 0.9217699801826522 test Score 0.9217849223946785\n",
            "Alpha =  100 Train Score 0.9217699801826522 test Score 0.9217849223946785\n",
            "Alpha =  1000 Train Score 0.0 test Score 0.0\n"
          ],
          "name": "stdout"
        },
        {
          "output_type": "execute_result",
          "data": {
            "text/plain": [
              "Text(0.5, 1.0, 'Alpha vs Score')"
            ]
          },
          "metadata": {
            "tags": []
          },
          "execution_count": 43
        },
        {
          "output_type": "display_data",
          "data": {
            "image/png": "[encoded data removed]",
            "text/plain": [
              "<Figure size 432x288 with 1 Axes>"
            ]
          },
          "metadata": {
            "tags": []
          }
        }
      ]
    },
    {
      "cell_type": "code",
      "metadata": {
        "colab": {
          "base_uri": "https://localhost:8080/"
        },
        "id": "osv9kXAyIl9G",
        "outputId": "87eac53c-78b1-43a1-cc0c-dbc2ceeade02"
      },
      "source": [
        "# Parameter tuning of Logistic regression using RandomisedSearch CV technique\n",
        "sgd = SGDClassifier(loss='log', n_jobs=-1, random_state=25)\n",
        " \n",
        "prams={ 'alpha': [10 ** x for x in range(-5, 4)] }\n",
        "\n",
        "random_cfl1 = RandomizedSearchCV(sgd,param_distributions=prams,verbose=10,scoring='f1',n_jobs=-1,random_state=25,\n",
        "                               return_train_score=True)\n",
        "random_cfl1.fit(X_tr,y_train)\n",
        "\n",
        "print('mean test scores',random_cfl1.cv_results_['mean_test_score'])\n",
        "print('mean train scores',random_cfl1.cv_results_['mean_train_score'])"
      ],
      "execution_count": null,
      "outputs": [
        {
          "output_type": "stream",
          "text": [
            "Fitting 5 folds for each of 9 candidates, totalling 45 fits\n"
          ],
          "name": "stdout"
        },
        {
          "output_type": "stream",
          "text": [
            "[Parallel(n_jobs=-1)]: Using backend LokyBackend with 2 concurrent workers.\n",
            "[Parallel(n_jobs=-1)]: Done   1 tasks      | elapsed:   14.9s\n",
            "[Parallel(n_jobs=-1)]: Done   4 tasks      | elapsed:   34.2s\n",
            "[Parallel(n_jobs=-1)]: Done   9 tasks      | elapsed:   51.1s\n",
            "[Parallel(n_jobs=-1)]: Done  14 tasks      | elapsed:   57.6s\n",
            "[Parallel(n_jobs=-1)]: Done  21 tasks      | elapsed:  1.1min\n",
            "[Parallel(n_jobs=-1)]: Done  28 tasks      | elapsed:  1.2min\n",
            "[Parallel(n_jobs=-1)]: Done  37 tasks      | elapsed:  1.3min\n",
            "[Parallel(n_jobs=-1)]: Done  45 out of  45 | elapsed:  1.4min finished\n"
          ],
          "name": "stderr"
        },
        {
          "output_type": "stream",
          "text": [
            "mean test scores [0.93890549 0.93570691 0.9303933  0.92479287 0.92176998 0.92176998\n",
            " 0.92176998 0.92176998 0.92176998]\n",
            "mean train scores [0.94139155 0.93656487 0.93053796 0.9248175  0.92176998 0.92176998\n",
            " 0.92176998 0.92176998 0.92176998]\n"
          ],
          "name": "stdout"
        }
      ]
    },
    {
      "cell_type": "code",
      "metadata": {
        "id": "crADDWjAGemm"
      },
      "source": [
        ""
      ],
      "execution_count": null,
      "outputs": []
    },
    {
      "cell_type": "code",
      "metadata": {
        "colab": {
          "base_uri": "https://localhost:8080/"
        },
        "id": "zeUgOsBaKChv",
        "outputId": "27f54368-ce0a-42ec-c1df-0cce38cf40e3"
      },
      "source": [
        "# printing best parameters and score\n",
        "print(\"Best Parameters: \",random_cfl1.best_params_)\n",
        "print(\"Best Score: \",random_cfl1.best_score_)"
      ],
      "execution_count": null,
      "outputs": [
        {
          "output_type": "stream",
          "text": [
            "Best Parameters:  {'alpha': 1e-05}\n",
            "Best Score:  0.9389054942415799\n"
          ],
          "name": "stdout"
        }
      ]
    },
    {
      "cell_type": "code",
      "metadata": {
        "colab": {
          "base_uri": "https://localhost:8080/"
        },
        "id": "Es8eZnILKJhU",
        "outputId": "43654823-7fd8-4c71-9a08-f7e3705a16e4"
      },
      "source": [
        "# Fitting LogisticRegression mpdel on best parameters\n",
        "sgd = SGDClassifier(loss='log', alpha=1e-05, n_jobs=-1, random_state=25)\n",
        "sgd.fit(X_tr,y_train)\n",
        "#pickle.dump(sgd,open('models/logistic.pkl','wb'))\n",
        "\n",
        "y_train_pred = sgd.predict(X_tr)\n",
        "y_test_pred = sgd.predict(X_te)\n",
        "\n",
        "# printing train and test scores \n",
        "print('Train f1 score: ',f1_score(y_train,y_train_pred))\n",
        "print('Test f1 score: ',f1_score(y_test,y_test_pred))"
      ],
      "execution_count": null,
      "outputs": [
        {
          "output_type": "stream",
          "text": [
            "Train f1 score:  0.9430514332945111\n",
            "Test f1 score:  0.9369113740642357\n"
          ],
          "name": "stdout"
        }
      ]
    },
    {
      "cell_type": "code",
      "metadata": {
        "colab": {
          "base_uri": "https://localhost:8080/",
          "height": 350
        },
        "id": "qFY6DXriKJlX",
        "outputId": "2c10f452-e040-4539-a7e8-23a90d3206f1"
      },
      "source": [
        "confusion_matrices_plot(y_train,y_train_pred,y_test,y_test_pred)"
      ],
      "execution_count": null,
      "outputs": [
        {
          "output_type": "display_data",
          "data": {
            "image/png": "[encoded data removed]",
            "text/plain": [
              "<Figure size 1080x360 with 4 Axes>"
            ]
          },
          "metadata": {
            "tags": []
          }
        }
      ]
    },
    {
      "cell_type": "markdown",
      "metadata": {
        "id": "PJbTjr0u05z3"
      },
      "source": [
        "Observation(s):\n",
        "* Total 13 numerical features and 4 categorical features are taken. \n",
        "* Logistic Regression Model is performing better than the other models.\n",
        "* Logistic Regression Model is choosen as a baseline model(randomly).\n",
        "* LR Model Scores: train f1-score = 0.9430514332945111 and test f1_score = 0.9369113740642357\n",
        "* From the both train amnd tesr confusion matrix ,we can observe that the False Psitive and False Negative values are still very large lets try to reduce these values by adding some features and through feacure selection methods."
      ]
    },
    {
      "cell_type": "markdown",
      "metadata": {
        "id": "dWA54OcW7PFX"
      },
      "source": [
        "#4.Feature Engineering"
      ]
    },
    {
      "cell_type": "markdown",
      "metadata": {
        "id": "sAq-teWKN5vK"
      },
      "source": [
        "From the existing solution\n",
        "1. **Sellers Count**: Total number of sellers per product (Numerical feat.).\n",
        "2. **Products count**: Total number of products ordered per order (Numerical feat.).\n",
        "3. **Estimated Delivery Time(in number of days)**: Estimated number of days tto deliver the producti.e (order_approval_date - order_estimated_delivery_date)(Numerical feat.).\n",
        "4. **Actual Delivery Time**: Actual number of days taken to deliver the product(Numerical feat.).\n",
        "5. **Difference in delivery days**:- Difference between the actual and estimated date(Numerical feat.).``` Negative : delivered early ,positive : delivered late.```\n",
        "\n",
        "6. **Is Late**:- If delivered late then True else False (Binary).\n",
        "\n",
        "7. **Average Product Value**:- Cheaper products might have lower quality, leaving customers unhappy (Numerical feat.).\n",
        "8. **Total Order Value**:- If a customer expends more, he might expect a better order fulfilment(Numerical feat.).\n",
        "9. **Order Freight Ratio**:- If a customer pays more for freight, he might expect a better service(Numerical feat.).\n",
        "10. **Purchase Day of Week**:- Day of week on which purchase was made(Numerical feat.).\n",
        "11. **is_reviewed**:- If the review comment is given or not.\n",
        "\n",
        "other:\n",
        "\n",
        "12. **Recency** : number of days since the last purchase(present date -last ordered date)(Numerical feat.).\n",
        "13. **Frequency** : number of transactions made over the period(present date -last ordered date)(Numerical feat.).\n",
        "14. **Monetary** : amount spent over a given period time (Numerical feat.)\n",
        "15. **RFM Levels** :Behavioral segmentations using above three features (Categorical).\n",
        "16. **words per review** : Total number of words per review (Numerical feat.)."
      ]
    },
    {
      "cell_type": "code",
      "metadata": {
        "colab": {
          "base_uri": "https://localhost:8080/",
          "height": 296
        },
        "id": "emG2nE9lNRdm",
        "outputId": "757b2195-7ef0-4cc9-ba69-7a331d49e0b3"
      },
      "source": [
        "data_n = pd.read_pickle('final.pkl')\n",
        "data_n.head()"
      ],
      "execution_count": null,
      "outputs": [
        {
          "output_type": "execute_result",
          "data": {
            "text/html": [
              "<div>\n",
              "<style scoped>\n",
              "    .dataframe tbody tr th:only-of-type {\n",
              "        vertical-align: middle;\n",
              "    }\n",
              "\n",
              "    .dataframe tbody tr th {\n",
              "        vertical-align: top;\n",
              "    }\n",
              "\n",
              "    .dataframe thead th {\n",
              "        text-align: right;\n",
              "    }\n",
              "</style>\n",
              "<table border=\"1\" class=\"dataframe\">\n",
              "  <thead>\n",
              "    <tr style=\"text-align: right;\">\n",
              "      <th></th>\n",
              "      <th>order_id</th>\n",
              "      <th>customer_id</th>\n",
              "      <th>order_status</th>\n",
              "      <th>order_purchase_timestamp</th>\n",
              "      <th>order_approved_at</th>\n",
              "      <th>order_delivered_customer_date</th>\n",
              "      <th>order_estimated_delivery_date</th>\n",
              "      <th>payment_sequential</th>\n",
              "      <th>payment_type</th>\n",
              "      <th>payment_installments</th>\n",
              "      <th>payment_value</th>\n",
              "      <th>customer_unique_id</th>\n",
              "      <th>customer_zip_code_prefix</th>\n",
              "      <th>customer_city</th>\n",
              "      <th>customer_state</th>\n",
              "      <th>order_item_id</th>\n",
              "      <th>product_id</th>\n",
              "      <th>seller_id</th>\n",
              "      <th>shipping_limit_date</th>\n",
              "      <th>price</th>\n",
              "      <th>freight_value</th>\n",
              "      <th>product_category_name</th>\n",
              "      <th>product_name_lenght</th>\n",
              "      <th>product_description_lenght</th>\n",
              "      <th>product_photos_qty</th>\n",
              "      <th>product_weight_g</th>\n",
              "      <th>product_length_cm</th>\n",
              "      <th>product_height_cm</th>\n",
              "      <th>product_width_cm</th>\n",
              "      <th>product_category_name_english</th>\n",
              "      <th>review_score</th>\n",
              "      <th>review_comment_message</th>\n",
              "      <th>order_purchase_year</th>\n",
              "      <th>order_purchase_month</th>\n",
              "      <th>order_purchase_month_name</th>\n",
              "      <th>order_purchase_year_month</th>\n",
              "      <th>order_purchase_date</th>\n",
              "      <th>order_purchase_month_yr</th>\n",
              "      <th>order_purchase_day</th>\n",
              "      <th>order_purchase_dayofweek</th>\n",
              "      <th>order_purchase_dayofweek_name</th>\n",
              "      <th>order_purchase_hour</th>\n",
              "      <th>order_purchase_time_day</th>\n",
              "      <th>day_to_delivery</th>\n",
              "      <th>words_per_review</th>\n",
              "    </tr>\n",
              "  </thead>\n",
              "  <tbody>\n",
              "    <tr>\n",
              "      <th>0</th>\n",
              "      <td>e481f51cbdc54678b7cc49136f2d6af7</td>\n",
              "      <td>9ef432eb6251297304e76186b10a928d</td>\n",
              "      <td>delivered</td>\n",
              "      <td>2017-10-02 10:56:33</td>\n",
              "      <td>2017-10-02 11:07:15</td>\n",
              "      <td>2017-10-10 21:25:13</td>\n",
              "      <td>2017-10-18</td>\n",
              "      <td>1</td>\n",
              "      <td>credit_card</td>\n",
              "      <td>1</td>\n",
              "      <td>18.12</td>\n",
              "      <td>7c396fd4830fd04220f754e42b4e5bff</td>\n",
              "      <td>3149</td>\n",
              "      <td>sao paulo</td>\n",
              "      <td>SP</td>\n",
              "      <td>1</td>\n",
              "      <td>87285b34884572647811a353c7ac498a</td>\n",
              "      <td>3504c0cb71d7fa48d967e0e4c94d59d9</td>\n",
              "      <td>2017-10-06 11:07:15</td>\n",
              "      <td>29.99</td>\n",
              "      <td>8.72</td>\n",
              "      <td>utilidades_domesticas</td>\n",
              "      <td>40.0</td>\n",
              "      <td>268.0</td>\n",
              "      <td>4.0</td>\n",
              "      <td>500.0</td>\n",
              "      <td>19.0</td>\n",
              "      <td>8.0</td>\n",
              "      <td>13.0</td>\n",
              "      <td>housewares</td>\n",
              "      <td>1</td>\n",
              "      <td>Não testei o produto ainda, mas ele veio corre...</td>\n",
              "      <td>2017</td>\n",
              "      <td>10</td>\n",
              "      <td>Oct</td>\n",
              "      <td>201710</td>\n",
              "      <td>20171002</td>\n",
              "      <td>Oct-17</td>\n",
              "      <td>2</td>\n",
              "      <td>0</td>\n",
              "      <td>Mon</td>\n",
              "      <td>10</td>\n",
              "      <td>Morning</td>\n",
              "      <td>8</td>\n",
              "      <td>32</td>\n",
              "    </tr>\n",
              "    <tr>\n",
              "      <th>3</th>\n",
              "      <td>128e10d95713541c87cd1a2e48201934</td>\n",
              "      <td>a20e8105f23924cd00833fd87daa0831</td>\n",
              "      <td>delivered</td>\n",
              "      <td>2017-08-15 18:29:31</td>\n",
              "      <td>2017-08-15 20:05:16</td>\n",
              "      <td>2017-08-18 14:44:43</td>\n",
              "      <td>2017-08-28</td>\n",
              "      <td>1</td>\n",
              "      <td>credit_card</td>\n",
              "      <td>3</td>\n",
              "      <td>37.77</td>\n",
              "      <td>3a51803cc0d012c3b5dc8b7528cb05f7</td>\n",
              "      <td>3366</td>\n",
              "      <td>sao paulo</td>\n",
              "      <td>SP</td>\n",
              "      <td>1</td>\n",
              "      <td>87285b34884572647811a353c7ac498a</td>\n",
              "      <td>3504c0cb71d7fa48d967e0e4c94d59d9</td>\n",
              "      <td>2017-08-21 20:05:16</td>\n",
              "      <td>29.99</td>\n",
              "      <td>7.78</td>\n",
              "      <td>utilidades_domesticas</td>\n",
              "      <td>40.0</td>\n",
              "      <td>268.0</td>\n",
              "      <td>4.0</td>\n",
              "      <td>500.0</td>\n",
              "      <td>19.0</td>\n",
              "      <td>8.0</td>\n",
              "      <td>13.0</td>\n",
              "      <td>housewares</td>\n",
              "      <td>1</td>\n",
              "      <td>Deveriam embalar melhor o produto. A caixa vei...</td>\n",
              "      <td>2017</td>\n",
              "      <td>8</td>\n",
              "      <td>Aug</td>\n",
              "      <td>201708</td>\n",
              "      <td>20170815</td>\n",
              "      <td>Aug-17</td>\n",
              "      <td>15</td>\n",
              "      <td>1</td>\n",
              "      <td>Tue</td>\n",
              "      <td>18</td>\n",
              "      <td>Afternoon</td>\n",
              "      <td>2</td>\n",
              "      <td>16</td>\n",
              "    </tr>\n",
              "    <tr>\n",
              "      <th>4</th>\n",
              "      <td>0e7e841ddf8f8f2de2bad69267ecfbcf</td>\n",
              "      <td>26c7ac168e1433912a51b924fbd34d34</td>\n",
              "      <td>delivered</td>\n",
              "      <td>2017-08-02 18:24:47</td>\n",
              "      <td>2017-08-02 18:43:15</td>\n",
              "      <td>2017-08-07 18:30:01</td>\n",
              "      <td>2017-08-15</td>\n",
              "      <td>1</td>\n",
              "      <td>credit_card</td>\n",
              "      <td>1</td>\n",
              "      <td>37.77</td>\n",
              "      <td>ef0996a1a279c26e7ecbd737be23d235</td>\n",
              "      <td>2290</td>\n",
              "      <td>sao paulo</td>\n",
              "      <td>SP</td>\n",
              "      <td>1</td>\n",
              "      <td>87285b34884572647811a353c7ac498a</td>\n",
              "      <td>3504c0cb71d7fa48d967e0e4c94d59d9</td>\n",
              "      <td>2017-08-08 18:37:31</td>\n",
              "      <td>29.99</td>\n",
              "      <td>7.78</td>\n",
              "      <td>utilidades_domesticas</td>\n",
              "      <td>40.0</td>\n",
              "      <td>268.0</td>\n",
              "      <td>4.0</td>\n",
              "      <td>500.0</td>\n",
              "      <td>19.0</td>\n",
              "      <td>8.0</td>\n",
              "      <td>13.0</td>\n",
              "      <td>housewares</td>\n",
              "      <td>1</td>\n",
              "      <td>Só achei ela pequena pra seis xícaras ,mais é ...</td>\n",
              "      <td>2017</td>\n",
              "      <td>8</td>\n",
              "      <td>Aug</td>\n",
              "      <td>201708</td>\n",
              "      <td>20170802</td>\n",
              "      <td>Aug-17</td>\n",
              "      <td>2</td>\n",
              "      <td>2</td>\n",
              "      <td>Wed</td>\n",
              "      <td>18</td>\n",
              "      <td>Afternoon</td>\n",
              "      <td>5</td>\n",
              "      <td>12</td>\n",
              "    </tr>\n",
              "    <tr>\n",
              "      <th>5</th>\n",
              "      <td>bfc39df4f36c3693ff3b63fcbea9e90a</td>\n",
              "      <td>53904ddbea91e1e92b2b3f1d09a7af86</td>\n",
              "      <td>delivered</td>\n",
              "      <td>2017-10-23 23:26:46</td>\n",
              "      <td>2017-10-25 02:14:11</td>\n",
              "      <td>2017-11-07 18:04:59</td>\n",
              "      <td>2017-11-13</td>\n",
              "      <td>1</td>\n",
              "      <td>boleto</td>\n",
              "      <td>1</td>\n",
              "      <td>44.09</td>\n",
              "      <td>e781fdcc107d13d865fc7698711cc572</td>\n",
              "      <td>88032</td>\n",
              "      <td>florianopolis</td>\n",
              "      <td>SC</td>\n",
              "      <td>1</td>\n",
              "      <td>87285b34884572647811a353c7ac498a</td>\n",
              "      <td>3504c0cb71d7fa48d967e0e4c94d59d9</td>\n",
              "      <td>2017-10-31 02:14:11</td>\n",
              "      <td>29.99</td>\n",
              "      <td>14.10</td>\n",
              "      <td>utilidades_domesticas</td>\n",
              "      <td>40.0</td>\n",
              "      <td>268.0</td>\n",
              "      <td>4.0</td>\n",
              "      <td>500.0</td>\n",
              "      <td>19.0</td>\n",
              "      <td>8.0</td>\n",
              "      <td>13.0</td>\n",
              "      <td>housewares</td>\n",
              "      <td>1</td>\n",
              "      <td>nao_reveja</td>\n",
              "      <td>2017</td>\n",
              "      <td>10</td>\n",
              "      <td>Oct</td>\n",
              "      <td>201710</td>\n",
              "      <td>20171023</td>\n",
              "      <td>Oct-17</td>\n",
              "      <td>23</td>\n",
              "      <td>0</td>\n",
              "      <td>Mon</td>\n",
              "      <td>23</td>\n",
              "      <td>Night</td>\n",
              "      <td>14</td>\n",
              "      <td>1</td>\n",
              "    </tr>\n",
              "    <tr>\n",
              "      <th>6</th>\n",
              "      <td>6ea2f835b4556291ffdc53fa0b3b95e8</td>\n",
              "      <td>c7340080e394356141681bd4c9b8fe31</td>\n",
              "      <td>delivered</td>\n",
              "      <td>2017-11-24 21:27:48</td>\n",
              "      <td>2017-11-25 00:21:09</td>\n",
              "      <td>2017-12-28 18:59:23</td>\n",
              "      <td>2017-12-21</td>\n",
              "      <td>1</td>\n",
              "      <td>credit_card</td>\n",
              "      <td>10</td>\n",
              "      <td>356.12</td>\n",
              "      <td>3e4fd73f1e86b135b9b121d6abbe9597</td>\n",
              "      <td>19400</td>\n",
              "      <td>presidente venceslau</td>\n",
              "      <td>SP</td>\n",
              "      <td>1</td>\n",
              "      <td>be021417a6acb56b9b50d3fd2714baa8</td>\n",
              "      <td>f5f46307a4d15880ca14fab4ad9dfc9b</td>\n",
              "      <td>2017-11-30 00:21:09</td>\n",
              "      <td>339.00</td>\n",
              "      <td>17.12</td>\n",
              "      <td>utilidades_domesticas</td>\n",
              "      <td>48.0</td>\n",
              "      <td>664.0</td>\n",
              "      <td>6.0</td>\n",
              "      <td>14300.0</td>\n",
              "      <td>38.0</td>\n",
              "      <td>34.0</td>\n",
              "      <td>34.0</td>\n",
              "      <td>housewares</td>\n",
              "      <td>0</td>\n",
              "      <td>Inicialmente, na data da compra o produto era ...</td>\n",
              "      <td>2017</td>\n",
              "      <td>11</td>\n",
              "      <td>Nov</td>\n",
              "      <td>201711</td>\n",
              "      <td>20171124</td>\n",
              "      <td>Nov-17</td>\n",
              "      <td>24</td>\n",
              "      <td>4</td>\n",
              "      <td>Fri</td>\n",
              "      <td>21</td>\n",
              "      <td>Night</td>\n",
              "      <td>33</td>\n",
              "      <td>22</td>\n",
              "    </tr>\n",
              "  </tbody>\n",
              "</table>\n",
              "</div>"
            ],
            "text/plain": [
              "                           order_id  ... words_per_review\n",
              "0  e481f51cbdc54678b7cc49136f2d6af7  ...               32\n",
              "3  128e10d95713541c87cd1a2e48201934  ...               16\n",
              "4  0e7e841ddf8f8f2de2bad69267ecfbcf  ...               12\n",
              "5  bfc39df4f36c3693ff3b63fcbea9e90a  ...                1\n",
              "6  6ea2f835b4556291ffdc53fa0b3b95e8  ...               22\n",
              "\n",
              "[5 rows x 45 columns]"
            ]
          },
          "metadata": {
            "tags": []
          },
          "execution_count": 22
        }
      ]
    },
    {
      "cell_type": "code",
      "metadata": {
        "colab": {
          "base_uri": "https://localhost:8080/",
          "height": 206
        },
        "id": "8CMOUgAiOdvt",
        "outputId": "8eed9cd5-002b-4c3f-e7a3-c48e371c793e"
      },
      "source": [
        "#sellers count for each product\n",
        "fea_1= data_n.groupby('product_id').count()['seller_id']\n",
        "fea_1_df = pd.DataFrame()\n",
        "fea_1_df['product_id']= fea_1.index\n",
        "fea_1_df['sellers_count']= fea_1.values\n",
        "fea_1_df.head()"
      ],
      "execution_count": null,
      "outputs": [
        {
          "output_type": "execute_result",
          "data": {
            "text/html": [
              "<div>\n",
              "<style scoped>\n",
              "    .dataframe tbody tr th:only-of-type {\n",
              "        vertical-align: middle;\n",
              "    }\n",
              "\n",
              "    .dataframe tbody tr th {\n",
              "        vertical-align: top;\n",
              "    }\n",
              "\n",
              "    .dataframe thead th {\n",
              "        text-align: right;\n",
              "    }\n",
              "</style>\n",
              "<table border=\"1\" class=\"dataframe\">\n",
              "  <thead>\n",
              "    <tr style=\"text-align: right;\">\n",
              "      <th></th>\n",
              "      <th>product_id</th>\n",
              "      <th>sellers_count</th>\n",
              "    </tr>\n",
              "  </thead>\n",
              "  <tbody>\n",
              "    <tr>\n",
              "      <th>0</th>\n",
              "      <td>00066f42aeeb9f3007548bb9d3f33c38</td>\n",
              "      <td>1</td>\n",
              "    </tr>\n",
              "    <tr>\n",
              "      <th>1</th>\n",
              "      <td>00088930e925c41fd95ebfe695fd2655</td>\n",
              "      <td>1</td>\n",
              "    </tr>\n",
              "    <tr>\n",
              "      <th>2</th>\n",
              "      <td>0009406fd7479715e4bef61dd91f2462</td>\n",
              "      <td>1</td>\n",
              "    </tr>\n",
              "    <tr>\n",
              "      <th>3</th>\n",
              "      <td>000b8f95fcb9e0096488278317764d19</td>\n",
              "      <td>2</td>\n",
              "    </tr>\n",
              "    <tr>\n",
              "      <th>4</th>\n",
              "      <td>000d9be29b5207b54e86aa1b1ac54872</td>\n",
              "      <td>1</td>\n",
              "    </tr>\n",
              "  </tbody>\n",
              "</table>\n",
              "</div>"
            ],
            "text/plain": [
              "                         product_id  sellers_count\n",
              "0  00066f42aeeb9f3007548bb9d3f33c38              1\n",
              "1  00088930e925c41fd95ebfe695fd2655              1\n",
              "2  0009406fd7479715e4bef61dd91f2462              1\n",
              "3  000b8f95fcb9e0096488278317764d19              2\n",
              "4  000d9be29b5207b54e86aa1b1ac54872              1"
            ]
          },
          "metadata": {
            "tags": []
          },
          "execution_count": 23
        }
      ]
    },
    {
      "cell_type": "code",
      "metadata": {
        "id": "r0ASUpFuqe7X"
      },
      "source": [
        ""
      ],
      "execution_count": null,
      "outputs": []
    },
    {
      "cell_type": "code",
      "metadata": {
        "colab": {
          "base_uri": "https://localhost:8080/",
          "height": 206
        },
        "id": "RWRYBZ8M5P4N",
        "outputId": "5faa6cb5-cc01-4ea9-e1e5-afa48042213f"
      },
      "source": [
        "#sellers count for each product\n",
        "fea_2 = data_n.groupby('order_id').count()['product_id']\n",
        "fea_2_df = pd.DataFrame()\n",
        "fea_2_df['order_id']= fea_2.index\n",
        "fea_2_df['products_count']= fea_2.values\n",
        "fea_2_df.head()\n"
      ],
      "execution_count": null,
      "outputs": [
        {
          "output_type": "execute_result",
          "data": {
            "text/html": [
              "<div>\n",
              "<style scoped>\n",
              "    .dataframe tbody tr th:only-of-type {\n",
              "        vertical-align: middle;\n",
              "    }\n",
              "\n",
              "    .dataframe tbody tr th {\n",
              "        vertical-align: top;\n",
              "    }\n",
              "\n",
              "    .dataframe thead th {\n",
              "        text-align: right;\n",
              "    }\n",
              "</style>\n",
              "<table border=\"1\" class=\"dataframe\">\n",
              "  <thead>\n",
              "    <tr style=\"text-align: right;\">\n",
              "      <th></th>\n",
              "      <th>order_id</th>\n",
              "      <th>products_count</th>\n",
              "    </tr>\n",
              "  </thead>\n",
              "  <tbody>\n",
              "    <tr>\n",
              "      <th>0</th>\n",
              "      <td>00010242fe8c5a6d1ba2dd792cb16214</td>\n",
              "      <td>1</td>\n",
              "    </tr>\n",
              "    <tr>\n",
              "      <th>1</th>\n",
              "      <td>00018f77f2f0320c557190d7a144bdd3</td>\n",
              "      <td>1</td>\n",
              "    </tr>\n",
              "    <tr>\n",
              "      <th>2</th>\n",
              "      <td>000229ec398224ef6ca0657da4fc703e</td>\n",
              "      <td>1</td>\n",
              "    </tr>\n",
              "    <tr>\n",
              "      <th>3</th>\n",
              "      <td>00024acbcdf0a6daa1e931b038114c75</td>\n",
              "      <td>1</td>\n",
              "    </tr>\n",
              "    <tr>\n",
              "      <th>4</th>\n",
              "      <td>00042b26cf59d7ce69dfabb4e55b4fd9</td>\n",
              "      <td>1</td>\n",
              "    </tr>\n",
              "  </tbody>\n",
              "</table>\n",
              "</div>"
            ],
            "text/plain": [
              "                           order_id  products_count\n",
              "0  00010242fe8c5a6d1ba2dd792cb16214               1\n",
              "1  00018f77f2f0320c557190d7a144bdd3               1\n",
              "2  000229ec398224ef6ca0657da4fc703e               1\n",
              "3  00024acbcdf0a6daa1e931b038114c75               1\n",
              "4  00042b26cf59d7ce69dfabb4e55b4fd9               1"
            ]
          },
          "metadata": {
            "tags": []
          },
          "execution_count": 24
        }
      ]
    },
    {
      "cell_type": "code",
      "metadata": {
        "id": "3WC63evo7dtm"
      },
      "source": [
        "# Adding the seller count and products count feature to the final data set\n",
        "data_n = pd.merge(data_n,fea_1_df,on='product_id')\n",
        "data_n = pd.merge(data_n,fea_2_df,on='order_id')\n"
      ],
      "execution_count": null,
      "outputs": []
    },
    {
      "cell_type": "code",
      "metadata": {
        "id": "DIU_TfAs7dy0"
      },
      "source": [
        "#Extrcting Features (taken from existing soluting )\n",
        "\n",
        "# https://www.kaggle.com/andresionek/predicting-customer-satisfaction\n",
        "\n",
        "# calculating estimated delivery time\n",
        "data_n['est_delivery_t'] = (data_n['order_estimated_delivery_date'] - data_n['order_approved_at']).dt.days\n",
        "\n",
        "# calculating actual delivery time\n",
        "data_n['act_delivery_t'] = (data_n['order_delivered_customer_date'] - data_n['order_approved_at']).dt.days\n",
        "\n",
        "# calculating diff_in_delivery_time\n",
        "data_n['diff_in_delivery_t'] = data_n['est_delivery_t'] - data_n['act_delivery_t']\n",
        "\n",
        "# finding if delivery was lare\n",
        "data_n['on_time_delivery'] = data_n['order_delivered_customer_date'] < data_n['order_estimated_delivery_date']\n",
        "data_n['on_time_delivery'] = data_n['on_time_delivery'].astype('int')\n",
        "\n",
        "# calculating mean product value\n",
        "data_n['avg_prdt_value'] = data_n['price']/data_n['products_count']\n",
        "\n",
        "# finding total order cost\n",
        "data_n['total_order_cost'] = data_n['price'] + data_n['freight_value']\n",
        "\n",
        "# calculating order freight ratio\n",
        "data_n['order_freight_ratio'] = data_n['freight_value']/data_n['price']\n",
        "\n",
        "# finding the day of week on which order was made\n",
        "data_n['purchase_dayofweek'] = pd.to_datetime(data_n['order_purchase_timestamp']).dt.dayofweek\n",
        "\n",
        "# adding is_reviewed where 1 is if review comment is given otherwise 0.\n",
        "data_n['is_reviewed'] = (data_n['review_comment_message'] != 'no_review').astype('int')"
      ],
      "execution_count": null,
      "outputs": []
    },
    {
      "cell_type": "code",
      "metadata": {
        "id": "Kqr_Q5PNQBW0"
      },
      "source": [
        "#list(data.groupby('customer_id')['order_purchase_dayofweek'].agg([('year_avg','mean')])['year_avg'])"
      ],
      "execution_count": null,
      "outputs": []
    },
    {
      "cell_type": "code",
      "metadata": {
        "colab": {
          "base_uri": "https://localhost:8080/",
          "height": 237
        },
        "id": "ol4I5cc_QBaL",
        "outputId": "22e62ff2-5dca-417c-b4f9-b06ae3cd3023"
      },
      "source": [
        "rfm = pd.read_pickle('rfm.pkl')\n",
        "rfm.head()"
      ],
      "execution_count": null,
      "outputs": [
        {
          "output_type": "execute_result",
          "data": {
            "text/html": [
              "<div>\n",
              "<style scoped>\n",
              "    .dataframe tbody tr th:only-of-type {\n",
              "        vertical-align: middle;\n",
              "    }\n",
              "\n",
              "    .dataframe tbody tr th {\n",
              "        vertical-align: top;\n",
              "    }\n",
              "\n",
              "    .dataframe thead th {\n",
              "        text-align: right;\n",
              "    }\n",
              "</style>\n",
              "<table border=\"1\" class=\"dataframe\">\n",
              "  <thead>\n",
              "    <tr style=\"text-align: right;\">\n",
              "      <th></th>\n",
              "      <th>recency</th>\n",
              "      <th>frequency</th>\n",
              "      <th>monetary</th>\n",
              "      <th>f_quartile</th>\n",
              "      <th>r_quartile</th>\n",
              "      <th>m_quartile</th>\n",
              "      <th>RFM_Score</th>\n",
              "      <th>RFM_Score_s</th>\n",
              "      <th>RFM_Level</th>\n",
              "    </tr>\n",
              "    <tr>\n",
              "      <th>customer_unique_id</th>\n",
              "      <th></th>\n",
              "      <th></th>\n",
              "      <th></th>\n",
              "      <th></th>\n",
              "      <th></th>\n",
              "      <th></th>\n",
              "      <th></th>\n",
              "      <th></th>\n",
              "      <th></th>\n",
              "    </tr>\n",
              "  </thead>\n",
              "  <tbody>\n",
              "    <tr>\n",
              "      <th>0000366f3b9a7992bf8c76cfdf3221e2</th>\n",
              "      <td>115</td>\n",
              "      <td>1</td>\n",
              "      <td>141.90</td>\n",
              "      <td>1</td>\n",
              "      <td>4</td>\n",
              "      <td>3</td>\n",
              "      <td>413</td>\n",
              "      <td>8</td>\n",
              "      <td>Champions</td>\n",
              "    </tr>\n",
              "    <tr>\n",
              "      <th>0000b849f77a49e4a4ce2b2a4ca5be3f</th>\n",
              "      <td>118</td>\n",
              "      <td>1</td>\n",
              "      <td>27.19</td>\n",
              "      <td>1</td>\n",
              "      <td>4</td>\n",
              "      <td>1</td>\n",
              "      <td>411</td>\n",
              "      <td>6</td>\n",
              "      <td>Potential</td>\n",
              "    </tr>\n",
              "    <tr>\n",
              "      <th>0000f46a3911fa3c0805444483337064</th>\n",
              "      <td>541</td>\n",
              "      <td>1</td>\n",
              "      <td>86.22</td>\n",
              "      <td>1</td>\n",
              "      <td>1</td>\n",
              "      <td>2</td>\n",
              "      <td>112</td>\n",
              "      <td>4</td>\n",
              "      <td>Needs Attention</td>\n",
              "    </tr>\n",
              "    <tr>\n",
              "      <th>0000f6ccb0745a6a4b88665a16c9f078</th>\n",
              "      <td>325</td>\n",
              "      <td>1</td>\n",
              "      <td>43.62</td>\n",
              "      <td>1</td>\n",
              "      <td>2</td>\n",
              "      <td>1</td>\n",
              "      <td>211</td>\n",
              "      <td>4</td>\n",
              "      <td>Needs Attention</td>\n",
              "    </tr>\n",
              "    <tr>\n",
              "      <th>0004aac84e0df4da2b147fca70cf8255</th>\n",
              "      <td>292</td>\n",
              "      <td>1</td>\n",
              "      <td>196.89</td>\n",
              "      <td>1</td>\n",
              "      <td>2</td>\n",
              "      <td>4</td>\n",
              "      <td>214</td>\n",
              "      <td>7</td>\n",
              "      <td>Loyal</td>\n",
              "    </tr>\n",
              "  </tbody>\n",
              "</table>\n",
              "</div>"
            ],
            "text/plain": [
              "                                  recency  ...        RFM_Level\n",
              "customer_unique_id                         ...                 \n",
              "0000366f3b9a7992bf8c76cfdf3221e2      115  ...        Champions\n",
              "0000b849f77a49e4a4ce2b2a4ca5be3f      118  ...        Potential\n",
              "0000f46a3911fa3c0805444483337064      541  ...  Needs Attention\n",
              "0000f6ccb0745a6a4b88665a16c9f078      325  ...  Needs Attention\n",
              "0004aac84e0df4da2b147fca70cf8255      292  ...            Loyal\n",
              "\n",
              "[5 rows x 9 columns]"
            ]
          },
          "metadata": {
            "tags": []
          },
          "execution_count": 27
        }
      ]
    },
    {
      "cell_type": "code",
      "metadata": {
        "id": "j93wsW1hYs34"
      },
      "source": [
        "data_n = data_n.merge(rfm ,on ='customer_unique_id',how='left')"
      ],
      "execution_count": null,
      "outputs": []
    },
    {
      "cell_type": "code",
      "metadata": {
        "colab": {
          "base_uri": "https://localhost:8080/"
        },
        "id": "v1A5xFmIY8_u",
        "outputId": "49647940-b593-47d0-d918-e1f18c2b2582"
      },
      "source": [
        "data_n.isnull().sum()"
      ],
      "execution_count": null,
      "outputs": [
        {
          "output_type": "execute_result",
          "data": {
            "text/plain": [
              "order_id                    0\n",
              "customer_id                 0\n",
              "order_status                0\n",
              "order_purchase_timestamp    0\n",
              "order_approved_at           0\n",
              "                           ..\n",
              "r_quartile                  0\n",
              "m_quartile                  0\n",
              "RFM_Score                   0\n",
              "RFM_Score_s                 0\n",
              "RFM_Level                   0\n",
              "Length: 65, dtype: int64"
            ]
          },
          "metadata": {
            "tags": []
          },
          "execution_count": 29
        }
      ]
    },
    {
      "cell_type": "code",
      "metadata": {
        "colab": {
          "base_uri": "https://localhost:8080/",
          "height": 296
        },
        "id": "GRiVN48ctK2-",
        "outputId": "fe22c7cb-1f5d-44aa-bfd5-d00931fe3359"
      },
      "source": [
        "# Delivery estimated time and actual delivery time\n",
        "plt.figure(figsize=(10,4))\n",
        "plt.title(\"Delivery time in days\")\n",
        "plt.xlim(-10, 200)\n",
        "plt.grid()\n",
        "\n",
        "ax1 = sns.kdeplot(data_n['act_delivery_t'], color=\"#D84E30\", label='Delivery time')\n",
        "ax2 = sns.kdeplot(data_n['est_delivery_t'], color=\"#7E7270\", label='Estimated delivery time')"
      ],
      "execution_count": null,
      "outputs": [
        {
          "output_type": "display_data",
          "data": {
            "image/png": "[encoded data removed]",
            "text/plain": [
              "<Figure size 720x288 with 1 Axes>"
            ]
          },
          "metadata": {
            "tags": [],
            "needs_background": "light"
          }
        }
      ]
    },
    {
      "cell_type": "code",
      "metadata": {
        "id": "RGTxYanl7nNV"
      },
      "source": [
        "col= ['order_id',\n",
        " 'customer_id',\n",
        " 'order_purchase_timestamp',\n",
        " 'order_approved_at',\n",
        " 'order_delivered_customer_date',\n",
        " 'order_estimated_delivery_date',\n",
        "  'customer_unique_id',\n",
        " 'order_item_id',\n",
        " 'product_id',\n",
        " 'seller_id',\n",
        " 'shipping_limit_date',\n",
        "  'order_purchase_year',\n",
        " 'order_purchase_month',\n",
        " 'order_purchase_month_name',\n",
        " 'order_purchase_year_month',\n",
        " 'order_purchase_date',\n",
        " 'order_purchase_month_yr',\n",
        " 'order_purchase_day',\n",
        " 'order_purchase_dayofweek',\n",
        " 'order_purchase_dayofweek_name',\n",
        " 'order_purchase_hour',\n",
        " 'order_purchase_time_day',\n",
        "  'f_quartile',\n",
        " 'r_quartile',\n",
        " 'm_quartile',\n",
        " 'RFM_Score','RFM_Score_s','product_category_name']\n"
      ],
      "execution_count": null,
      "outputs": []
    },
    {
      "cell_type": "code",
      "metadata": {
        "colab": {
          "base_uri": "https://localhost:8080/",
          "height": 313
        },
        "id": "ZQqtPBPM7r_U",
        "outputId": "7d461b89-db14-4e37-e1ae-574fef26c62d"
      },
      "source": [
        "data_n.drop(columns=col,axis=1,inplace=True)\n",
        "data_n.head()"
      ],
      "execution_count": null,
      "outputs": [
        {
          "output_type": "execute_result",
          "data": {
            "text/html": [
              "<div>\n",
              "<style scoped>\n",
              "    .dataframe tbody tr th:only-of-type {\n",
              "        vertical-align: middle;\n",
              "    }\n",
              "\n",
              "    .dataframe tbody tr th {\n",
              "        vertical-align: top;\n",
              "    }\n",
              "\n",
              "    .dataframe thead th {\n",
              "        text-align: right;\n",
              "    }\n",
              "</style>\n",
              "<table border=\"1\" class=\"dataframe\">\n",
              "  <thead>\n",
              "    <tr style=\"text-align: right;\">\n",
              "      <th></th>\n",
              "      <th>order_status</th>\n",
              "      <th>payment_sequential</th>\n",
              "      <th>payment_type</th>\n",
              "      <th>payment_installments</th>\n",
              "      <th>payment_value</th>\n",
              "      <th>customer_zip_code_prefix</th>\n",
              "      <th>customer_city</th>\n",
              "      <th>customer_state</th>\n",
              "      <th>price</th>\n",
              "      <th>freight_value</th>\n",
              "      <th>product_name_lenght</th>\n",
              "      <th>product_description_lenght</th>\n",
              "      <th>product_photos_qty</th>\n",
              "      <th>product_weight_g</th>\n",
              "      <th>product_length_cm</th>\n",
              "      <th>product_height_cm</th>\n",
              "      <th>product_width_cm</th>\n",
              "      <th>product_category_name_english</th>\n",
              "      <th>review_score</th>\n",
              "      <th>review_comment_message</th>\n",
              "      <th>day_to_delivery</th>\n",
              "      <th>words_per_review</th>\n",
              "      <th>sellers_count</th>\n",
              "      <th>products_count</th>\n",
              "      <th>est_delivery_t</th>\n",
              "      <th>act_delivery_t</th>\n",
              "      <th>diff_in_delivery_t</th>\n",
              "      <th>on_time_delivery</th>\n",
              "      <th>avg_prdt_value</th>\n",
              "      <th>total_order_cost</th>\n",
              "      <th>order_freight_ratio</th>\n",
              "      <th>purchase_dayofweek</th>\n",
              "      <th>is_reviewed</th>\n",
              "      <th>recency</th>\n",
              "      <th>frequency</th>\n",
              "      <th>monetary</th>\n",
              "      <th>RFM_Level</th>\n",
              "    </tr>\n",
              "  </thead>\n",
              "  <tbody>\n",
              "    <tr>\n",
              "      <th>0</th>\n",
              "      <td>delivered</td>\n",
              "      <td>1</td>\n",
              "      <td>credit_card</td>\n",
              "      <td>1</td>\n",
              "      <td>18.12</td>\n",
              "      <td>3149</td>\n",
              "      <td>sao paulo</td>\n",
              "      <td>SP</td>\n",
              "      <td>29.99</td>\n",
              "      <td>8.72</td>\n",
              "      <td>40.0</td>\n",
              "      <td>268.0</td>\n",
              "      <td>4.0</td>\n",
              "      <td>500.0</td>\n",
              "      <td>19.0</td>\n",
              "      <td>8.0</td>\n",
              "      <td>13.0</td>\n",
              "      <td>housewares</td>\n",
              "      <td>1</td>\n",
              "      <td>Não testei o produto ainda, mas ele veio corre...</td>\n",
              "      <td>8</td>\n",
              "      <td>32</td>\n",
              "      <td>4</td>\n",
              "      <td>1</td>\n",
              "      <td>15</td>\n",
              "      <td>8</td>\n",
              "      <td>7</td>\n",
              "      <td>1</td>\n",
              "      <td>29.99</td>\n",
              "      <td>38.71</td>\n",
              "      <td>0.290764</td>\n",
              "      <td>0</td>\n",
              "      <td>1</td>\n",
              "      <td>335</td>\n",
              "      <td>2</td>\n",
              "      <td>62.23</td>\n",
              "      <td>Promising</td>\n",
              "    </tr>\n",
              "    <tr>\n",
              "      <th>1</th>\n",
              "      <td>delivered</td>\n",
              "      <td>1</td>\n",
              "      <td>credit_card</td>\n",
              "      <td>3</td>\n",
              "      <td>37.77</td>\n",
              "      <td>3366</td>\n",
              "      <td>sao paulo</td>\n",
              "      <td>SP</td>\n",
              "      <td>29.99</td>\n",
              "      <td>7.78</td>\n",
              "      <td>40.0</td>\n",
              "      <td>268.0</td>\n",
              "      <td>4.0</td>\n",
              "      <td>500.0</td>\n",
              "      <td>19.0</td>\n",
              "      <td>8.0</td>\n",
              "      <td>13.0</td>\n",
              "      <td>housewares</td>\n",
              "      <td>1</td>\n",
              "      <td>Deveriam embalar melhor o produto. A caixa vei...</td>\n",
              "      <td>2</td>\n",
              "      <td>16</td>\n",
              "      <td>4</td>\n",
              "      <td>1</td>\n",
              "      <td>12</td>\n",
              "      <td>2</td>\n",
              "      <td>10</td>\n",
              "      <td>1</td>\n",
              "      <td>29.99</td>\n",
              "      <td>37.77</td>\n",
              "      <td>0.259420</td>\n",
              "      <td>1</td>\n",
              "      <td>1</td>\n",
              "      <td>383</td>\n",
              "      <td>1</td>\n",
              "      <td>37.77</td>\n",
              "      <td>Require Activation</td>\n",
              "    </tr>\n",
              "    <tr>\n",
              "      <th>2</th>\n",
              "      <td>delivered</td>\n",
              "      <td>1</td>\n",
              "      <td>credit_card</td>\n",
              "      <td>1</td>\n",
              "      <td>37.77</td>\n",
              "      <td>2290</td>\n",
              "      <td>sao paulo</td>\n",
              "      <td>SP</td>\n",
              "      <td>29.99</td>\n",
              "      <td>7.78</td>\n",
              "      <td>40.0</td>\n",
              "      <td>268.0</td>\n",
              "      <td>4.0</td>\n",
              "      <td>500.0</td>\n",
              "      <td>19.0</td>\n",
              "      <td>8.0</td>\n",
              "      <td>13.0</td>\n",
              "      <td>housewares</td>\n",
              "      <td>1</td>\n",
              "      <td>Só achei ela pequena pra seis xícaras ,mais é ...</td>\n",
              "      <td>5</td>\n",
              "      <td>12</td>\n",
              "      <td>4</td>\n",
              "      <td>1</td>\n",
              "      <td>12</td>\n",
              "      <td>4</td>\n",
              "      <td>8</td>\n",
              "      <td>1</td>\n",
              "      <td>29.99</td>\n",
              "      <td>37.77</td>\n",
              "      <td>0.259420</td>\n",
              "      <td>2</td>\n",
              "      <td>1</td>\n",
              "      <td>396</td>\n",
              "      <td>1</td>\n",
              "      <td>37.77</td>\n",
              "      <td>Require Activation</td>\n",
              "    </tr>\n",
              "    <tr>\n",
              "      <th>3</th>\n",
              "      <td>delivered</td>\n",
              "      <td>1</td>\n",
              "      <td>boleto</td>\n",
              "      <td>1</td>\n",
              "      <td>44.09</td>\n",
              "      <td>88032</td>\n",
              "      <td>florianopolis</td>\n",
              "      <td>SC</td>\n",
              "      <td>29.99</td>\n",
              "      <td>14.10</td>\n",
              "      <td>40.0</td>\n",
              "      <td>268.0</td>\n",
              "      <td>4.0</td>\n",
              "      <td>500.0</td>\n",
              "      <td>19.0</td>\n",
              "      <td>8.0</td>\n",
              "      <td>13.0</td>\n",
              "      <td>housewares</td>\n",
              "      <td>1</td>\n",
              "      <td>nao_reveja</td>\n",
              "      <td>14</td>\n",
              "      <td>1</td>\n",
              "      <td>4</td>\n",
              "      <td>1</td>\n",
              "      <td>18</td>\n",
              "      <td>13</td>\n",
              "      <td>5</td>\n",
              "      <td>1</td>\n",
              "      <td>29.99</td>\n",
              "      <td>44.09</td>\n",
              "      <td>0.470157</td>\n",
              "      <td>0</td>\n",
              "      <td>1</td>\n",
              "      <td>314</td>\n",
              "      <td>1</td>\n",
              "      <td>44.09</td>\n",
              "      <td>Needs Attention</td>\n",
              "    </tr>\n",
              "    <tr>\n",
              "      <th>4</th>\n",
              "      <td>delivered</td>\n",
              "      <td>1</td>\n",
              "      <td>credit_card</td>\n",
              "      <td>10</td>\n",
              "      <td>356.12</td>\n",
              "      <td>19400</td>\n",
              "      <td>presidente venceslau</td>\n",
              "      <td>SP</td>\n",
              "      <td>339.00</td>\n",
              "      <td>17.12</td>\n",
              "      <td>48.0</td>\n",
              "      <td>664.0</td>\n",
              "      <td>6.0</td>\n",
              "      <td>14300.0</td>\n",
              "      <td>38.0</td>\n",
              "      <td>34.0</td>\n",
              "      <td>34.0</td>\n",
              "      <td>housewares</td>\n",
              "      <td>0</td>\n",
              "      <td>Inicialmente, na data da compra o produto era ...</td>\n",
              "      <td>33</td>\n",
              "      <td>22</td>\n",
              "      <td>1</td>\n",
              "      <td>1</td>\n",
              "      <td>25</td>\n",
              "      <td>33</td>\n",
              "      <td>-8</td>\n",
              "      <td>0</td>\n",
              "      <td>339.00</td>\n",
              "      <td>356.12</td>\n",
              "      <td>0.050501</td>\n",
              "      <td>4</td>\n",
              "      <td>1</td>\n",
              "      <td>282</td>\n",
              "      <td>1</td>\n",
              "      <td>356.12</td>\n",
              "      <td>Loyal</td>\n",
              "    </tr>\n",
              "  </tbody>\n",
              "</table>\n",
              "</div>"
            ],
            "text/plain": [
              "  order_status  payment_sequential  ... monetary           RFM_Level\n",
              "0    delivered                   1  ...    62.23           Promising\n",
              "1    delivered                   1  ...    37.77  Require Activation\n",
              "2    delivered                   1  ...    37.77  Require Activation\n",
              "3    delivered                   1  ...    44.09     Needs Attention\n",
              "4    delivered                   1  ...   356.12               Loyal\n",
              "\n",
              "[5 rows x 37 columns]"
            ]
          },
          "metadata": {
            "tags": []
          },
          "execution_count": 33
        }
      ]
    },
    {
      "cell_type": "code",
      "metadata": {
        "colab": {
          "base_uri": "https://localhost:8080/"
        },
        "id": "vy379o-xZciC",
        "outputId": "7c8b1188-a949-459e-d8ef-8e4ec88531d3"
      },
      "source": [
        "#text preprocessing\n",
        "processed_text = preprocess_text(data_n['review_comment_message'].values)"
      ],
      "execution_count": null,
      "outputs": [
        {
          "output_type": "stream",
          "text": [
            "100%|██████████| 97255/97255 [00:24<00:00, 4037.26it/s]\n"
          ],
          "name": "stderr"
        }
      ]
    },
    {
      "cell_type": "code",
      "metadata": {
        "colab": {
          "base_uri": "https://localhost:8080/"
        },
        "id": "a4HC3l1NZpI0",
        "outputId": "fec3bdd5-9e9b-4a44-e8ce-23867d0baadf"
      },
      "source": [
        "data_n['review_comment_message'] = processed_text\n",
        "data_n['review_comment_message'].head(5)"
      ],
      "execution_count": null,
      "outputs": [
        {
          "output_type": "execute_result",
          "data": {
            "text/plain": [
              "0    neg test produt aind vei corret boa cond apen ...\n",
              "1    dev embal melhor produt caix vei tod amass vou...\n",
              "2                   ach pequen pra seil xíc bom produt\n",
              "3                                           neg _revej\n",
              "4    inic dat compr produt ser entreg numer numer h...\n",
              "Name: review_comment_message, dtype: object"
            ]
          },
          "metadata": {
            "tags": []
          },
          "execution_count": 35
        }
      ]
    },
    {
      "cell_type": "code",
      "metadata": {
        "id": "_vyzOSwPZwQW"
      },
      "source": [
        ""
      ],
      "execution_count": null,
      "outputs": []
    },
    {
      "cell_type": "code",
      "metadata": {
        "id": "m1gbChWdZwVa"
      },
      "source": [
        ""
      ],
      "execution_count": null,
      "outputs": []
    },
    {
      "cell_type": "markdown",
      "metadata": {
        "id": "lKunbQpSwv_X"
      },
      "source": [
        "Spliting data in Train and Test."
      ]
    },
    {
      "cell_type": "code",
      "metadata": {
        "colab": {
          "base_uri": "https://localhost:8080/",
          "height": 193
        },
        "id": "-zvVIPIDR-Yw",
        "outputId": "8687b3c2-a52d-4066-ca91-4137b5cd4975"
      },
      "source": [
        "y = data_n['review_score'].values\n",
        "X = data_n.drop(['review_score'], axis=1)\n",
        "print(\"      X \",\"        y\")\n",
        "print(X.shape,y.shape)\n",
        "print('\\n')\n",
        "X.head(1)   "
      ],
      "execution_count": null,
      "outputs": [
        {
          "output_type": "stream",
          "text": [
            "      X          y\n",
            "(97255, 36) (97255,)\n",
            "\n",
            "\n"
          ],
          "name": "stdout"
        },
        {
          "output_type": "execute_result",
          "data": {
            "text/html": [
              "<div>\n",
              "<style scoped>\n",
              "    .dataframe tbody tr th:only-of-type {\n",
              "        vertical-align: middle;\n",
              "    }\n",
              "\n",
              "    .dataframe tbody tr th {\n",
              "        vertical-align: top;\n",
              "    }\n",
              "\n",
              "    .dataframe thead th {\n",
              "        text-align: right;\n",
              "    }\n",
              "</style>\n",
              "<table border=\"1\" class=\"dataframe\">\n",
              "  <thead>\n",
              "    <tr style=\"text-align: right;\">\n",
              "      <th></th>\n",
              "      <th>order_status</th>\n",
              "      <th>payment_sequential</th>\n",
              "      <th>payment_type</th>\n",
              "      <th>payment_installments</th>\n",
              "      <th>payment_value</th>\n",
              "      <th>customer_zip_code_prefix</th>\n",
              "      <th>customer_city</th>\n",
              "      <th>customer_state</th>\n",
              "      <th>price</th>\n",
              "      <th>freight_value</th>\n",
              "      <th>product_name_lenght</th>\n",
              "      <th>product_description_lenght</th>\n",
              "      <th>product_photos_qty</th>\n",
              "      <th>product_weight_g</th>\n",
              "      <th>product_length_cm</th>\n",
              "      <th>product_height_cm</th>\n",
              "      <th>product_width_cm</th>\n",
              "      <th>product_category_name_english</th>\n",
              "      <th>review_comment_message</th>\n",
              "      <th>day_to_delivery</th>\n",
              "      <th>words_per_review</th>\n",
              "      <th>sellers_count</th>\n",
              "      <th>products_count</th>\n",
              "      <th>est_delivery_t</th>\n",
              "      <th>act_delivery_t</th>\n",
              "      <th>diff_in_delivery_t</th>\n",
              "      <th>on_time_delivery</th>\n",
              "      <th>avg_prdt_value</th>\n",
              "      <th>total_order_cost</th>\n",
              "      <th>order_freight_ratio</th>\n",
              "      <th>purchase_dayofweek</th>\n",
              "      <th>is_reviewed</th>\n",
              "      <th>recency</th>\n",
              "      <th>frequency</th>\n",
              "      <th>monetary</th>\n",
              "      <th>RFM_Level</th>\n",
              "    </tr>\n",
              "  </thead>\n",
              "  <tbody>\n",
              "    <tr>\n",
              "      <th>0</th>\n",
              "      <td>delivered</td>\n",
              "      <td>1</td>\n",
              "      <td>credit_card</td>\n",
              "      <td>1</td>\n",
              "      <td>18.12</td>\n",
              "      <td>3149</td>\n",
              "      <td>sao paulo</td>\n",
              "      <td>SP</td>\n",
              "      <td>29.99</td>\n",
              "      <td>8.72</td>\n",
              "      <td>40.0</td>\n",
              "      <td>268.0</td>\n",
              "      <td>4.0</td>\n",
              "      <td>500.0</td>\n",
              "      <td>19.0</td>\n",
              "      <td>8.0</td>\n",
              "      <td>13.0</td>\n",
              "      <td>housewares</td>\n",
              "      <td>neg test produt aind vei corret boa cond apen ...</td>\n",
              "      <td>8</td>\n",
              "      <td>32</td>\n",
              "      <td>4</td>\n",
              "      <td>1</td>\n",
              "      <td>15</td>\n",
              "      <td>8</td>\n",
              "      <td>7</td>\n",
              "      <td>1</td>\n",
              "      <td>29.99</td>\n",
              "      <td>38.71</td>\n",
              "      <td>0.290764</td>\n",
              "      <td>0</td>\n",
              "      <td>1</td>\n",
              "      <td>335</td>\n",
              "      <td>2</td>\n",
              "      <td>62.23</td>\n",
              "      <td>Promising</td>\n",
              "    </tr>\n",
              "  </tbody>\n",
              "</table>\n",
              "</div>"
            ],
            "text/plain": [
              "  order_status  payment_sequential payment_type  ...  frequency  monetary  RFM_Level\n",
              "0    delivered                   1  credit_card  ...          2     62.23  Promising\n",
              "\n",
              "[1 rows x 36 columns]"
            ]
          },
          "metadata": {
            "tags": []
          },
          "execution_count": 36
        }
      ]
    },
    {
      "cell_type": "code",
      "metadata": {
        "id": "FvVHyDu671ym"
      },
      "source": [
        ""
      ],
      "execution_count": null,
      "outputs": []
    },
    {
      "cell_type": "code",
      "metadata": {
        "colab": {
          "base_uri": "https://localhost:8080/"
        },
        "id": "km_EQpPY8EQ-",
        "outputId": "bc5abf75-d647-44ba-a2b1-e0321b7014a3"
      },
      "source": [
        "# train test split\n",
        "from sklearn.model_selection import train_test_split\n",
        "X_train, X_test, y_train, y_test = train_test_split(X, y, test_size=0.2, stratify=y,random_state=25)\n",
        "\n",
        "\n",
        "print(\" X_train\",\"   y_train\")\n",
        "print(X_train.shape,y_train.shape)\n",
        "print('-'*15)\n",
        "print(\"X_test\",\"    y_test\")\n",
        "print(X_test.shape,y_test.shape)"
      ],
      "execution_count": null,
      "outputs": [
        {
          "output_type": "stream",
          "text": [
            " X_train    y_train\n",
            "(77804, 36) (77804,)\n",
            "---------------\n",
            "X_test     y_test\n",
            "(19451, 36) (19451,)\n"
          ],
          "name": "stdout"
        }
      ]
    },
    {
      "cell_type": "code",
      "metadata": {
        "id": "J_WTyja-RgKU"
      },
      "source": [
        "pickle.dump(X_train,open('X_train.pkl','wb'))\n",
        "pickle.dump(X_test,open('X_test.pkl','wb'))\n",
        "pickle.dump(y_train,open('y_train.pkl','wb'))\n",
        "pickle.dump(y_test,open('y_test.pkl','wb'))"
      ],
      "execution_count": null,
      "outputs": []
    },
    {
      "cell_type": "code",
      "metadata": {
        "id": "mKCT42IuxysX"
      },
      "source": [
        "X_train = pickle.load(open('X_train.pkl', 'rb'))\n",
        "X_test = pickle.load(open('X_test.pkl', 'rb'))\n",
        "y_train = pickle.load(open('y_train.pkl','rb'))\n",
        "y_test = pickle.load(open('y_test.pkl','rb'))"
      ],
      "execution_count": null,
      "outputs": []
    },
    {
      "cell_type": "code",
      "metadata": {
        "id": "1IqptiodycO4"
      },
      "source": [
        "\n"
      ],
      "execution_count": null,
      "outputs": []
    },
    {
      "cell_type": "markdown",
      "metadata": {
        "id": "gOGuR9Vf0YDM"
      },
      "source": [
        "#4.1 Featurization"
      ]
    },
    {
      "cell_type": "markdown",
      "metadata": {
        "id": "5OZvpbhdw4Tz"
      },
      "source": [
        "### Featurization of text data"
      ]
    },
    {
      "cell_type": "code",
      "metadata": {
        "colab": {
          "base_uri": "https://localhost:8080/"
        },
        "id": "jQmtT1ZVZHg7",
        "outputId": "bb5afe4b-170d-4cfe-857c-9546b5e0904b"
      },
      "source": [
        "# encoding review comment message using Tfidf weighted W2V\n",
        "tfidf = TfidfVectorizer()\n",
        "tfidf.fit(X_train['review_comment_message'])\n",
        "\n",
        "\n",
        "# we are converting a dictionary with word as a key, and the idf as a value\n",
        "tf_values = dict(zip(tfidf.get_feature_names(), list(tfidf.idf_)))\n",
        "tfidf_words = set(tfidf.get_feature_names())\n",
        "glove_words = list(ft_model.wv.vocab.keys()) # list(embeddings.keys())\n",
        "\n",
        "tfidf_w2v_vectors_train = tfidfWord2Vector(X_train['review_comment_message'].values,glove_words,tfidf_words,tf_values)\n",
        "tfidf_w2v_vectors_test = tfidfWord2Vector(X_test['review_comment_message'].values,glove_words,tfidf_words,tf_values)"
      ],
      "execution_count": null,
      "outputs": [
        {
          "output_type": "stream",
          "text": [
            "100%|██████████| 77804/77804 [1:37:31<00:00, 13.30it/s]\n",
            "100%|██████████| 19451/19451 [24:21<00:00, 13.31it/s]\n"
          ],
          "name": "stderr"
        }
      ]
    },
    {
      "cell_type": "code",
      "metadata": {
        "colab": {
          "base_uri": "https://localhost:8080/"
        },
        "id": "f4eH4BTqZHzQ",
        "outputId": "467bc20c-f3a6-428b-b4e2-f418ad934f98"
      },
      "source": [
        "tfidf_w2v_vectors_train.shape,tfidf_w2v_vectors_test.shape"
      ],
      "execution_count": null,
      "outputs": [
        {
          "output_type": "execute_result",
          "data": {
            "text/plain": [
              "((77804, 300), (19451, 300))"
            ]
          },
          "metadata": {
            "tags": []
          },
          "execution_count": 16
        }
      ]
    },
    {
      "cell_type": "code",
      "metadata": {
        "id": "dx06fvIzYXHi"
      },
      "source": [
        "pickle.dump(tfidf_w2v_vectors_train,open('tfidf_w2v_vectors_train.pkl','wb'))\n",
        "pickle.dump(tfidf_w2v_vectors_test,open('tfidf_w2v_vectors_test.pkl','wb'))"
      ],
      "execution_count": null,
      "outputs": []
    },
    {
      "cell_type": "markdown",
      "metadata": {
        "id": "j9SnTQ2H5QVb"
      },
      "source": [
        "## Encoding Categorical Features"
      ]
    },
    {
      "cell_type": "markdown",
      "metadata": {
        "id": "QpciOFfvydj8"
      },
      "source": [
        "### Encoding Categorical Features: order_status"
      ]
    },
    {
      "cell_type": "code",
      "metadata": {
        "colab": {
          "base_uri": "https://localhost:8080/"
        },
        "id": "enAtfgrB6650",
        "outputId": "68a5b026-9165-4155-ea37-c8c9697ebafe"
      },
      "source": [
        "\n",
        "vectorizer = CountVectorizer(binary= True)\n",
        "vectorizer.fit(X_train['order_status'].values) # fit has to happen only on train data\n",
        "\n",
        "# we use the fitted CountVectorizer to convert the text to vector\n",
        "order_st_tr = vectorizer.transform(X_train['order_status'].values)\n",
        "\n",
        "order_st_te = vectorizer.transform(X_test['order_status'].values)\n",
        "\n",
        "print(\"After vectorizations\")\n",
        "print(order_st_tr.shape, y_train.shape)\n",
        "print(order_st_tr.shape, y_test.shape)\n"
      ],
      "execution_count": null,
      "outputs": [
        {
          "output_type": "stream",
          "text": [
            "After vectorizations\n",
            "(77804, 7) (77804,)\n",
            "(77804, 7) (19451,)\n"
          ],
          "name": "stdout"
        }
      ]
    },
    {
      "cell_type": "markdown",
      "metadata": {
        "id": "Mvs15_sryiJp"
      },
      "source": [
        "### Encoding Categorical Features:payment_type"
      ]
    },
    {
      "cell_type": "code",
      "metadata": {
        "colab": {
          "base_uri": "https://localhost:8080/"
        },
        "id": "9Or3gF2CApk-",
        "outputId": "c0067227-cf32-43fc-f29d-eaff9b6e9590"
      },
      "source": [
        "vectorizer = CountVectorizer(binary= True)\n",
        "vectorizer.fit(X_train['payment_type'].values) # fit has to happen only on train data\n",
        "\n",
        "# we use the fitted CountVectorizer to convert the text to vector\n",
        "pay_typ_tr = vectorizer.transform(X_train['payment_type'].values)\n",
        "\n",
        "pay_typ_te = vectorizer.transform(X_test['payment_type'].values)\n",
        "\n",
        "print(\"After vectorizations\")\n",
        "print(pay_typ_tr.shape, y_train.shape)\n",
        "print(pay_typ_tr.shape, y_test.shape)\n"
      ],
      "execution_count": null,
      "outputs": [
        {
          "output_type": "stream",
          "text": [
            "After vectorizations\n",
            "(77804, 4) (77804,)\n",
            "(77804, 4) (19451,)\n"
          ],
          "name": "stdout"
        }
      ]
    },
    {
      "cell_type": "markdown",
      "metadata": {
        "id": "N29dhmmkyoaF"
      },
      "source": [
        "### Encoding Categorical Features:product_category_name_english"
      ]
    },
    {
      "cell_type": "code",
      "metadata": {
        "colab": {
          "base_uri": "https://localhost:8080/"
        },
        "id": "cjttm5u5_XEV",
        "outputId": "7ac0e09a-9011-4658-cc4d-c0235ace2488"
      },
      "source": [
        "vectorizer = CountVectorizer(binary= True)\n",
        "vectorizer.fit(X_train['product_category_name_english'].values) # fit has to happen only on train data\n",
        "\n",
        "# we use the fitted CountVectorizer to convert the text to vector\n",
        "prod_cat_tr = vectorizer.transform(X_train['product_category_name_english'].values)\n",
        "\n",
        "prod_cat_te = vectorizer.transform(X_test['product_category_name_english'].values)\n",
        "\n",
        "print(\"After vectorizations\")\n",
        "print(prod_cat_tr.shape, y_train.shape)\n",
        "print(prod_cat_tr.shape, y_test.shape)\n"
      ],
      "execution_count": null,
      "outputs": [
        {
          "output_type": "stream",
          "text": [
            "After vectorizations\n",
            "(77804, 71) (77804,)\n",
            "(77804, 71) (19451,)\n"
          ],
          "name": "stdout"
        }
      ]
    },
    {
      "cell_type": "markdown",
      "metadata": {
        "id": "2LpZiGkhyvuN"
      },
      "source": [
        "### Encoding Categorical Features: customer_state"
      ]
    },
    {
      "cell_type": "code",
      "metadata": {
        "colab": {
          "base_uri": "https://localhost:8080/"
        },
        "id": "LiCVQkBO67Ag",
        "outputId": "73df2645-9afc-4468-ec16-63ba04285cf9"
      },
      "source": [
        "vectorizer = CountVectorizer(binary= True)\n",
        "vectorizer.fit(X_train['customer_state'].values) # fit has to happen only on train data\n",
        "\n",
        "# we use the fitted CountVectorizer to convert the text to vector\n",
        "state_tr = vectorizer.transform(X_train['customer_state'].values)\n",
        "\n",
        "state_te = vectorizer.transform(X_test['customer_state'].values)\n",
        "\n",
        "print(\"After vectorizations\")\n",
        "print(state_tr.shape, y_train.shape)\n",
        "print(state_tr.shape, y_test.shape)\n"
      ],
      "execution_count": null,
      "outputs": [
        {
          "output_type": "stream",
          "text": [
            "After vectorizations\n",
            "(77804, 27) (77804,)\n",
            "(77804, 27) (19451,)\n"
          ],
          "name": "stdout"
        }
      ]
    },
    {
      "cell_type": "markdown",
      "metadata": {
        "id": "Xzj6jvM4yxXT"
      },
      "source": [
        "### Encoding Categorical Features: RFM_Level"
      ]
    },
    {
      "cell_type": "code",
      "metadata": {
        "colab": {
          "base_uri": "https://localhost:8080/"
        },
        "id": "tClRrJZA67DE",
        "outputId": "00788404-270b-4fab-ce6c-53a6786f5a21"
      },
      "source": [
        "vectorizer = CountVectorizer(binary= True)\n",
        "vectorizer.fit(X_train['RFM_Level'].values) # fit has to happen only on train data\n",
        "\n",
        "# we use the fitted CountVectorizer to convert the text to vector\n",
        "rfm_tr = vectorizer.transform(X_train['RFM_Level'].values)\n",
        "\n",
        "rfm_te = vectorizer.transform(X_test['RFM_Level'].values)\n",
        "\n",
        "print(\"After vectorizations\")\n",
        "print(rfm_tr.shape, y_train.shape)\n",
        "print(rfm_tr.shape, y_test.shape)\n"
      ],
      "execution_count": null,
      "outputs": [
        {
          "output_type": "stream",
          "text": [
            "After vectorizations\n",
            "(77804, 11) (77804,)\n",
            "(77804, 11) (19451,)\n"
          ],
          "name": "stdout"
        }
      ]
    },
    {
      "cell_type": "code",
      "metadata": {
        "id": "K1Q6Ddj367F5"
      },
      "source": [
        ""
      ],
      "execution_count": null,
      "outputs": []
    },
    {
      "cell_type": "markdown",
      "metadata": {
        "id": "manlqBBoCF0b"
      },
      "source": [
        "## Numerical features"
      ]
    },
    {
      "cell_type": "code",
      "metadata": {
        "id": "yGpKOkGVFSfL"
      },
      "source": [
        "# numerical features\n",
        "num=['payment_sequential',\n",
        " 'payment_installments',\n",
        " 'payment_value',\n",
        " 'customer_zip_code_prefix',\n",
        " 'price',\n",
        " 'freight_value',\n",
        " 'product_name_lenght',\n",
        " 'product_description_lenght',\n",
        " 'product_photos_qty',\n",
        " 'product_weight_g',\n",
        " 'product_length_cm',\n",
        " 'product_height_cm',\n",
        " 'product_width_cm',\n",
        " 'day_to_delivery',\n",
        " 'recency',\n",
        " 'frequency',\n",
        " 'monetary',\n",
        " 'sellers_count',\n",
        " 'products_count',\n",
        " 'est_delivery_t',\n",
        " 'act_delivery_t',\n",
        " 'diff_in_delivery_t',\n",
        " 'on_time_delivery',\n",
        " 'avg_prdt_value',\n",
        " 'total_order_cost',\n",
        " 'order_freight_ratio',\n",
        " 'purchase_dayofweek',\n",
        " 'is_reviewed','words_per_review']"
      ],
      "execution_count": null,
      "outputs": []
    },
    {
      "cell_type": "code",
      "metadata": {
        "id": "Oic8NPhs67LL"
      },
      "source": [
        "tr=[]\n",
        "te=[]\n",
        "for i in num:\n",
        "  a,b = normalizer(i)\n",
        "  tr.append(a)\n",
        "  te.append(b)\n",
        "\n"
      ],
      "execution_count": null,
      "outputs": []
    },
    {
      "cell_type": "code",
      "metadata": {
        "colab": {
          "base_uri": "https://localhost:8080/"
        },
        "id": "48PkXHkVE7ai",
        "outputId": "137a3fa1-3ee5-41fb-871f-78430e9ff529"
      },
      "source": [
        "from scipy.sparse import hstack,csr_matrix\n",
        "import numpy as np\n",
        "\n",
        "X_tr_num = np.hstack((tr))\n",
        "X_te_num = np.hstack((te))\n",
        "\n",
        "\n",
        "print(\"Final Data matrix\")\n",
        "print(X_tr_num.shape, y_train.shape)\n",
        "print(X_te_num.shape, y_test.shape)"
      ],
      "execution_count": null,
      "outputs": [
        {
          "output_type": "stream",
          "text": [
            "Final Data matrix\n",
            "(77804, 29) (77804,)\n",
            "(19451, 29) (19451,)\n"
          ],
          "name": "stdout"
        }
      ]
    },
    {
      "cell_type": "code",
      "metadata": {
        "colab": {
          "base_uri": "https://localhost:8080/"
        },
        "id": "IaBj7QzcHVdX",
        "outputId": "aa82ac70-212f-412a-c271-e33a6d1c22ae"
      },
      "source": [
        "# merge two sparse matrices: https://stackoverflow.com/a/19710648/4084039\n",
        "from scipy.sparse import hstack\n",
        "X_tr = hstack((tfidf_w2v_vectors_train,order_st_tr,pay_typ_tr,prod_cat_tr,state_tr,rfm_tr,X_tr_num)).tocsr()\n",
        "X_te = hstack((tfidf_w2v_vectors_test,order_st_te,pay_typ_te,prod_cat_te,state_te,rfm_te,X_te_num)).tocsr()\n",
        "\n",
        "print(\"Final Data matrix\")\n",
        "print(X_tr.shape, y_train.shape)\n",
        "\n",
        "print(X_te.shape, y_test.shape)\n",
        "print(\"=\"*100)\n",
        "print('')"
      ],
      "execution_count": null,
      "outputs": [
        {
          "output_type": "stream",
          "text": [
            "Final Data matrix\n",
            "(77804, 449) (77804,)\n",
            "(19451, 449) (19451,)\n",
            "====================================================================================================\n",
            "\n"
          ],
          "name": "stdout"
        }
      ]
    },
    {
      "cell_type": "code",
      "metadata": {
        "id": "OHPsKXJEuZto"
      },
      "source": [
        "pickle.dump(X_tr,open('X_tr.pkl','wb'))\n",
        "pickle.dump(X_te,open('X_te.pkl','wb'))\n"
      ],
      "execution_count": null,
      "outputs": []
    },
    {
      "cell_type": "code",
      "metadata": {
        "id": "-tp9tyOGy4z4"
      },
      "source": [
        "X_tr = pickle.load(open('X_tr.pkl', 'rb'))\n",
        "X_te = pickle.load(open('X_te.pkl', 'rb'))\n"
      ],
      "execution_count": null,
      "outputs": []
    },
    {
      "cell_type": "markdown",
      "metadata": {
        "id": "jU_NIf-0LKYd"
      },
      "source": [
        "#4.2 Baseline Model:(Logistic Regression Model)"
      ]
    },
    {
      "cell_type": "code",
      "metadata": {
        "colab": {
          "base_uri": "https://localhost:8080/",
          "height": 482
        },
        "id": "DIDHdHm5HVm_",
        "outputId": "10e34072-8c9e-4a45-8e76-30a87028daf4"
      },
      "source": [
        "# Training Logistic regression model and chekcing f1 score metric\n",
        "alpha = [10 ** x for x in range(-5, 4)]\n",
        "train_scores = [] # store train scores\n",
        "test_scores = [] # store test scores\n",
        "\n",
        "for i in alpha:\n",
        "    lr = SGDClassifier(loss='log', penalty='l2', alpha=i, n_jobs=-1, random_state=25)\n",
        "    lr.fit(X_tr,y_train)\n",
        "    train_sc = f1_score(y_train,lr.predict(X_tr))\n",
        "    test_sc = f1_score(y_test,lr.predict(X_te))\n",
        "    test_scores.append(test_sc)\n",
        "    train_scores.append(train_sc)\n",
        "    print('Alpha = ',i,'Train Score',train_sc,'test Score',test_sc)\n",
        "    \n",
        "# plotting the scores vs parameters\n",
        "plt.plot(np.log(alpha),train_scores,label='Train Score',color='black')\n",
        "plt.plot(np.log(alpha),test_scores,label='Test Score',color='r',alpha=0.5)\n",
        "plt.xlabel('Alpha')\n",
        "plt.ylabel('Score')\n",
        "plt.grid()\n",
        "plt.title('Alpha vs Score')"
      ],
      "execution_count": null,
      "outputs": [
        {
          "output_type": "stream",
          "text": [
            "Alpha =  1e-05 Train Score 0.9435627378076127 test Score 0.9401991432210258\n",
            "Alpha =  0.0001 Train Score 0.9428153677729367 test Score 0.9405402227904653\n",
            "Alpha =  0.001 Train Score 0.9362218869009126 test Score 0.9339920721548802\n",
            "Alpha =  0.01 Train Score 0.9342471437462888 test Score 0.9326807487549373\n",
            "Alpha =  0.1 Train Score 0.9217699801826522 test Score 0.9217849223946785\n",
            "Alpha =  1 Train Score 0.9217699801826522 test Score 0.9217849223946785\n",
            "Alpha =  10 Train Score 0.9217699801826522 test Score 0.9217849223946785\n",
            "Alpha =  100 Train Score 0.9217699801826522 test Score 0.9217849223946785\n",
            "Alpha =  1000 Train Score 0.9217699801826522 test Score 0.9217849223946785\n"
          ],
          "name": "stdout"
        },
        {
          "output_type": "execute_result",
          "data": {
            "text/plain": [
              "Text(0.5, 1.0, 'Alpha vs Score')"
            ]
          },
          "metadata": {
            "tags": []
          },
          "execution_count": 52
        },
        {
          "output_type": "display_data",
          "data": {
            "image/png": "[encoded data removed]",
            "text/plain": [
              "<Figure size 432x288 with 1 Axes>"
            ]
          },
          "metadata": {
            "tags": [],
            "needs_background": "light"
          }
        }
      ]
    },
    {
      "cell_type": "code",
      "metadata": {
        "colab": {
          "base_uri": "https://localhost:8080/"
        },
        "id": "8PzMhcRnQ373",
        "outputId": "a2dc0780-9c07-4db1-9b7b-0971b3823337"
      },
      "source": [
        "# Parameter tuning of Logistic regression using RandomisedSearch CV technique\n",
        "sgd = SGDClassifier(loss='log', n_jobs=-1, random_state=25)\n",
        " \n",
        "prams={ 'alpha': [10 ** x for x in range(-5, 4)] }\n",
        "\n",
        "random_cfl1 = RandomizedSearchCV(sgd,param_distributions=prams,verbose=10,scoring='f1',n_jobs=-1,random_state=25,\n",
        "                               return_train_score=True)\n",
        "random_cfl1.fit(X_tr,y_train)\n",
        "\n",
        "print('mean test scores',random_cfl1.cv_results_['mean_test_score'])\n",
        "print('mean train scores',random_cfl1.cv_results_['mean_train_score'])"
      ],
      "execution_count": null,
      "outputs": [
        {
          "output_type": "stream",
          "text": [
            "Fitting 5 folds for each of 9 candidates, totalling 45 fits\n"
          ],
          "name": "stdout"
        },
        {
          "output_type": "stream",
          "text": [
            "[Parallel(n_jobs=-1)]: Using backend LokyBackend with 2 concurrent workers.\n",
            "[Parallel(n_jobs=-1)]: Done   1 tasks      | elapsed:   12.6s\n",
            "[Parallel(n_jobs=-1)]: Done   4 tasks      | elapsed:   22.0s\n",
            "[Parallel(n_jobs=-1)]: Done   9 tasks      | elapsed:   33.4s\n",
            "[Parallel(n_jobs=-1)]: Done  14 tasks      | elapsed:   39.5s\n",
            "[Parallel(n_jobs=-1)]: Done  21 tasks      | elapsed:   44.9s\n",
            "[Parallel(n_jobs=-1)]: Done  28 tasks      | elapsed:   50.1s\n",
            "[Parallel(n_jobs=-1)]: Done  37 tasks      | elapsed:   56.5s\n",
            "[Parallel(n_jobs=-1)]: Done  45 out of  45 | elapsed:  1.0min finished\n"
          ],
          "name": "stderr"
        },
        {
          "output_type": "stream",
          "text": [
            "mean test scores [0.94231136 0.93999608 0.93585033 0.93438837 0.92176998 0.92176998\n",
            " 0.92176998 0.92176998 0.92176998]\n",
            "mean train scores [0.94390037 0.94052635 0.9359469  0.93436167 0.92176998 0.92176998\n",
            " 0.92176998 0.92176998 0.92176998]\n"
          ],
          "name": "stdout"
        }
      ]
    },
    {
      "cell_type": "code",
      "metadata": {
        "colab": {
          "base_uri": "https://localhost:8080/"
        },
        "id": "DKwwd05EnTxI",
        "outputId": "6493e846-556a-49af-8d1b-25274d77ef5a"
      },
      "source": [
        "# printing best parameters and score\n",
        "print(\"Best Parameters: \",random_cfl1.best_params_)\n",
        "print(\"Best Score: \",random_cfl1.best_score_)"
      ],
      "execution_count": null,
      "outputs": [
        {
          "output_type": "stream",
          "text": [
            "Best Parameters:  {'alpha': 1e-05}\n",
            "Best Score:  0.9423113649832487\n"
          ],
          "name": "stdout"
        }
      ]
    },
    {
      "cell_type": "code",
      "metadata": {
        "colab": {
          "base_uri": "https://localhost:8080/"
        },
        "id": "ykBlXqOTQ3_V",
        "outputId": "408b7124-5e95-4109-cde8-59623bceb5ed"
      },
      "source": [
        "# Fitting LogisticRegression mpdel on best parameters\n",
        "sgd = SGDClassifier(loss='log', alpha=1e-05, n_jobs=-1, random_state=25)\n",
        "sgd.fit(X_tr,y_train)\n",
        "#pickle.dump(sgd,open('models/logistic.pkl','wb'))\n",
        "\n",
        "y_train_pred = sgd.predict(X_tr)\n",
        "y_test_pred = sgd.predict(X_te)\n",
        "\n",
        "# printing train and test scores \n",
        "print('Train f1 score: ',f1_score(y_train,y_train_pred))\n",
        "print('Test f1 score: ',f1_score(y_test,y_test_pred))"
      ],
      "execution_count": null,
      "outputs": [
        {
          "output_type": "stream",
          "text": [
            "Train f1 score:  0.9435627378076127\n",
            "Test f1 score:  0.9401991432210258\n"
          ],
          "name": "stdout"
        }
      ]
    },
    {
      "cell_type": "code",
      "metadata": {
        "colab": {
          "base_uri": "https://localhost:8080/",
          "height": 350
        },
        "id": "F4Ubkfmi-F-N",
        "outputId": "b126b982-ecc5-41a2-dd9d-c9cd56a9b9d9"
      },
      "source": [
        "confusion_matrices_plot(y_train,y_train_pred,y_test,y_test_pred)"
      ],
      "execution_count": null,
      "outputs": [
        {
          "output_type": "display_data",
          "data": {
            "image/png": "[encoded data removed]",
            "text/plain": [
              "<Figure size 1080x360 with 4 Axes>"
            ]
          },
          "metadata": {
            "tags": [],
            "needs_background": "light"
          }
        }
      ]
    },
    {
      "cell_type": "code",
      "metadata": {
        "id": "-MZzfy_c6AQA"
      },
      "source": [
        ""
      ],
      "execution_count": null,
      "outputs": []
    },
    {
      "cell_type": "markdown",
      "metadata": {
        "id": "SjYaalog3FEP"
      },
      "source": [
        "Observation(s):\n",
        "\n",
        "* After adding new features ,we have total 29 numerical features and 5 categorical features and text data(300 dim).\n",
        "\n",
        "* Train f1 score:  0.9435627378076127,Test f1 score:  0.9402194366441825\n",
        "* From the both train and test confusion matrix , we can observe that the false positive values are increased.we will try to reduce it by selection important features.\n"
      ]
    },
    {
      "cell_type": "code",
      "metadata": {
        "id": "r3F02oXwpdLX"
      },
      "source": [
        ""
      ],
      "execution_count": null,
      "outputs": []
    },
    {
      "cell_type": "code",
      "metadata": {
        "id": "IEfWhc63PDfz"
      },
      "source": [
        ""
      ],
      "execution_count": null,
      "outputs": []
    },
    {
      "cell_type": "markdown",
      "metadata": {
        "id": "qQh8CGQvCj8u"
      },
      "source": [
        "#5.Feature Extraction/Selection using AutoEncoders"
      ]
    },
    {
      "cell_type": "code",
      "metadata": {
        "id": "hJ9iVydlIoGE"
      },
      "source": [
        "\n",
        "#Importing the Libraries\n",
        "from sklearn.preprocessing import MinMaxScaler\n",
        "from sklearn.model_selection import train_test_split\n",
        "from tensorflow.keras.layers import LeakyReLU\n",
        "from tensorflow.keras.models import Model\n",
        "from tensorflow.keras.layers import Input\n",
        "from tensorflow.keras.layers import Dense\n",
        "from tensorflow.keras.layers import BatchNormalization\n",
        "from tensorflow.keras.models import load_model\n",
        "\n"
      ],
      "execution_count": null,
      "outputs": []
    },
    {
      "cell_type": "code",
      "metadata": {
        "id": "EXu1WN6sIoJk"
      },
      "source": [
        ""
      ],
      "execution_count": null,
      "outputs": []
    },
    {
      "cell_type": "code",
      "metadata": {
        "id": "U95s-L_aC7kz"
      },
      "source": [
        "#Code Source-https://machinelearningmastery.com/autoencoder-for-classification/\n",
        "\n",
        "# AutoEncoder Model Preparation\n",
        "n_inputs = X_tr.shape[1]\n",
        "# define encoder\n",
        "input_data_shape= Input(shape=(n_inputs,))\n",
        "# encoder level 1\n",
        "encoder= Dense(round(float(n_inputs) / 2.0))(input_data_shape)\n",
        "encoder = BatchNormalization()(encoder)\n",
        "encoder= LeakyReLU()(encoder)\n",
        "# encoder level 2\n",
        "encoder= Dense(round(float(n_inputs) / 4.0))(encoder)\n",
        "encoder= BatchNormalization()(encoder)\n",
        "encoder= LeakyReLU()(encoder)\n",
        "# bottleneck (half of Input)\n",
        "n_bottleneck = round(float(n_inputs) / 4.0)\n",
        "bottleneck = Dense(n_bottleneck)(encoder)\n",
        "# define decoder, level 1\n",
        "decoder = Dense(round(float(n_inputs) / 3.0))(bottleneck)\n",
        "decoder = BatchNormalization()(decoder)\n",
        "decoder = LeakyReLU()(decoder)\n",
        "# decoder level 2\n",
        "decoder = Dense(round(float(n_inputs) / 2.0))(decoder)\n",
        "decoder = BatchNormalization()(decoder)\n",
        "decoder = LeakyReLU()(decoder)"
      ],
      "execution_count": null,
      "outputs": []
    },
    {
      "cell_type": "code",
      "metadata": {
        "id": "O-I5uc7u3jWb"
      },
      "source": [
        ""
      ],
      "execution_count": null,
      "outputs": []
    },
    {
      "cell_type": "code",
      "metadata": {
        "id": "eBjYtB5IImV9"
      },
      "source": [
        "# output layer\n",
        "output = Dense(n_inputs, activation='linear')(decoder)\n",
        "# define autoencoder model\n",
        "model = Model(inputs=input_data_shape, outputs=output)\n",
        "# compile autoencoder model\n",
        "model.compile(optimizer='adam', loss='mse')\n",
        "\n"
      ],
      "execution_count": null,
      "outputs": []
    },
    {
      "cell_type": "code",
      "metadata": {
        "colab": {
          "base_uri": "https://localhost:8080/"
        },
        "id": "CRCpG7yPIm30",
        "outputId": "193be3bb-da99-470d-8050-10fc67631cfd"
      },
      "source": [
        "model.summary()"
      ],
      "execution_count": null,
      "outputs": [
        {
          "output_type": "stream",
          "text": [
            "Model: \"model\"\n",
            "_________________________________________________________________\n",
            "Layer (type)                 Output Shape              Param #   \n",
            "=================================================================\n",
            "input_1 (InputLayer)         [(None, 449)]             0         \n",
            "_________________________________________________________________\n",
            "dense (Dense)                (None, 224)               100800    \n",
            "_________________________________________________________________\n",
            "batch_normalization (BatchNo (None, 224)               896       \n",
            "_________________________________________________________________\n",
            "leaky_re_lu (LeakyReLU)      (None, 224)               0         \n",
            "_________________________________________________________________\n",
            "dense_1 (Dense)              (None, 112)               25200     \n",
            "_________________________________________________________________\n",
            "batch_normalization_1 (Batch (None, 112)               448       \n",
            "_________________________________________________________________\n",
            "leaky_re_lu_1 (LeakyReLU)    (None, 112)               0         \n",
            "_________________________________________________________________\n",
            "dense_2 (Dense)              (None, 112)               12656     \n",
            "_________________________________________________________________\n",
            "dense_3 (Dense)              (None, 150)               16950     \n",
            "_________________________________________________________________\n",
            "batch_normalization_2 (Batch (None, 150)               600       \n",
            "_________________________________________________________________\n",
            "leaky_re_lu_2 (LeakyReLU)    (None, 150)               0         \n",
            "_________________________________________________________________\n",
            "dense_4 (Dense)              (None, 224)               33824     \n",
            "_________________________________________________________________\n",
            "batch_normalization_3 (Batch (None, 224)               896       \n",
            "_________________________________________________________________\n",
            "leaky_re_lu_3 (LeakyReLU)    (None, 224)               0         \n",
            "_________________________________________________________________\n",
            "dense_5 (Dense)              (None, 449)               101025    \n",
            "=================================================================\n",
            "Total params: 293,295\n",
            "Trainable params: 291,875\n",
            "Non-trainable params: 1,420\n",
            "_________________________________________________________________\n"
          ],
          "name": "stdout"
        }
      ]
    },
    {
      "cell_type": "code",
      "metadata": {
        "colab": {
          "base_uri": "https://localhost:8080/",
          "height": 1000
        },
        "id": "zwZWGUATSSzV",
        "outputId": "fa7aba59-c3d0-49d5-9298-c665d579776b"
      },
      "source": [
        "from keras.utils.vis_utils import plot_model\n",
        "plot_model(model, to_file='model_plot.png', show_shapes=True, show_layer_names=True)"
      ],
      "execution_count": null,
      "outputs": [
        {
          "output_type": "execute_result",
          "data": {
            "image/png": "[encoded data removed]",
            "text/plain": [
              "<IPython.core.display.Image object>"
            ]
          },
          "metadata": {
            "tags": []
          },
          "execution_count": 65
        }
      ]
    },
    {
      "cell_type": "code",
      "metadata": {
        "colab": {
          "base_uri": "https://localhost:8080/"
        },
        "id": "eDNxmVQ8Im8A",
        "outputId": "6aa6c441-9ce8-4ec8-a141-4e1173f003f4"
      },
      "source": [
        "# fit the autoencoder model to reconstruct input\n",
        "history = model.fit(X_tr, y_train, epochs=50, batch_size=16, verbose=2, validation_data=(X_te,y_test))"
      ],
      "execution_count": null,
      "outputs": [
        {
          "output_type": "stream",
          "text": [
            "Epoch 1/50\n",
            "4863/4863 - 22s - loss: 0.0898 - val_loss: 0.0782\n",
            "Epoch 2/50\n",
            "4863/4863 - 19s - loss: 0.0768 - val_loss: 0.0748\n",
            "Epoch 3/50\n",
            "4863/4863 - 19s - loss: 0.0738 - val_loss: 0.0794\n",
            "Epoch 4/50\n",
            "4863/4863 - 19s - loss: 0.0714 - val_loss: 0.0704\n",
            "Epoch 5/50\n",
            "4863/4863 - 19s - loss: 0.0696 - val_loss: 0.0690\n",
            "Epoch 6/50\n",
            "4863/4863 - 20s - loss: 0.0689 - val_loss: 0.0700\n",
            "Epoch 7/50\n",
            "4863/4863 - 20s - loss: 0.0677 - val_loss: 0.0734\n",
            "Epoch 8/50\n",
            "4863/4863 - 19s - loss: 0.0670 - val_loss: 0.0722\n",
            "Epoch 9/50\n",
            "4863/4863 - 19s - loss: 0.0665 - val_loss: 0.0704\n",
            "Epoch 10/50\n",
            "4863/4863 - 20s - loss: 0.0657 - val_loss: 0.0690\n",
            "Epoch 11/50\n",
            "4863/4863 - 19s - loss: 0.0650 - val_loss: 0.0682\n",
            "Epoch 12/50\n",
            "4863/4863 - 20s - loss: 0.0651 - val_loss: 0.0672\n",
            "Epoch 13/50\n",
            "4863/4863 - 20s - loss: 0.0644 - val_loss: 0.0691\n",
            "Epoch 14/50\n",
            "4863/4863 - 19s - loss: 0.0640 - val_loss: 0.0668\n",
            "Epoch 15/50\n",
            "4863/4863 - 19s - loss: 0.0637 - val_loss: 0.0682\n",
            "Epoch 16/50\n",
            "4863/4863 - 19s - loss: 0.0631 - val_loss: 0.0673\n",
            "Epoch 17/50\n",
            "4863/4863 - 19s - loss: 0.0629 - val_loss: 0.0689\n",
            "Epoch 18/50\n",
            "4863/4863 - 19s - loss: 0.0630 - val_loss: 0.0670\n",
            "Epoch 19/50\n",
            "4863/4863 - 19s - loss: 0.0624 - val_loss: 0.0671\n",
            "Epoch 20/50\n",
            "4863/4863 - 18s - loss: 0.0620 - val_loss: 0.0671\n",
            "Epoch 21/50\n",
            "4863/4863 - 19s - loss: 0.0614 - val_loss: 0.0689\n",
            "Epoch 22/50\n",
            "4863/4863 - 18s - loss: 0.0615 - val_loss: 0.0666\n",
            "Epoch 23/50\n",
            "4863/4863 - 18s - loss: 0.0609 - val_loss: 0.0690\n",
            "Epoch 24/50\n",
            "4863/4863 - 18s - loss: 0.0608 - val_loss: 0.0677\n",
            "Epoch 25/50\n",
            "4863/4863 - 18s - loss: 0.0605 - val_loss: 0.0669\n",
            "Epoch 26/50\n",
            "4863/4863 - 18s - loss: 0.0604 - val_loss: 0.0672\n",
            "Epoch 27/50\n",
            "4863/4863 - 18s - loss: 0.0600 - val_loss: 0.0663\n",
            "Epoch 28/50\n",
            "4863/4863 - 18s - loss: 0.0597 - val_loss: 0.0661\n",
            "Epoch 29/50\n",
            "4863/4863 - 18s - loss: 0.0596 - val_loss: 0.0667\n",
            "Epoch 30/50\n",
            "4863/4863 - 18s - loss: 0.0592 - val_loss: 0.0669\n",
            "Epoch 31/50\n",
            "4863/4863 - 18s - loss: 0.0589 - val_loss: 0.0660\n",
            "Epoch 32/50\n",
            "4863/4863 - 18s - loss: 0.0588 - val_loss: 0.0671\n",
            "Epoch 33/50\n",
            "4863/4863 - 18s - loss: 0.0585 - val_loss: 0.0667\n",
            "Epoch 34/50\n",
            "4863/4863 - 18s - loss: 0.0585 - val_loss: 0.0681\n",
            "Epoch 35/50\n",
            "4863/4863 - 18s - loss: 0.0580 - val_loss: 0.0690\n",
            "Epoch 36/50\n",
            "4863/4863 - 18s - loss: 0.0579 - val_loss: 0.0674\n",
            "Epoch 37/50\n",
            "4863/4863 - 20s - loss: 0.0577 - val_loss: 0.0677\n",
            "Epoch 38/50\n",
            "4863/4863 - 18s - loss: 0.0576 - val_loss: 0.0680\n",
            "Epoch 39/50\n",
            "4863/4863 - 18s - loss: 0.0571 - val_loss: 0.0677\n",
            "Epoch 40/50\n",
            "4863/4863 - 18s - loss: 0.0567 - val_loss: 0.0673\n",
            "Epoch 41/50\n",
            "4863/4863 - 18s - loss: 0.0571 - val_loss: 0.0683\n",
            "Epoch 42/50\n",
            "4863/4863 - 19s - loss: 0.0566 - val_loss: 0.0720\n",
            "Epoch 43/50\n",
            "4863/4863 - 19s - loss: 0.0562 - val_loss: 0.0699\n",
            "Epoch 44/50\n",
            "4863/4863 - 19s - loss: 0.0564 - val_loss: 0.0667\n",
            "Epoch 45/50\n",
            "4863/4863 - 19s - loss: 0.0562 - val_loss: 0.0667\n",
            "Epoch 46/50\n",
            "4863/4863 - 19s - loss: 0.0557 - val_loss: 0.0699\n",
            "Epoch 47/50\n",
            "4863/4863 - 19s - loss: 0.0558 - val_loss: 0.0676\n",
            "Epoch 48/50\n",
            "4863/4863 - 19s - loss: 0.0552 - val_loss: 0.0686\n",
            "Epoch 49/50\n",
            "4863/4863 - 19s - loss: 0.0552 - val_loss: 0.0669\n",
            "Epoch 50/50\n",
            "4863/4863 - 19s - loss: 0.0548 - val_loss: 0.0675\n"
          ],
          "name": "stdout"
        }
      ]
    },
    {
      "cell_type": "code",
      "metadata": {
        "colab": {
          "base_uri": "https://localhost:8080/",
          "height": 295
        },
        "id": "COYVkXlyPEwY",
        "outputId": "88be1a67-3849-487a-869a-d96b25d0a99b"
      },
      "source": [
        "\n",
        "plt.plot(history.history['loss'],color='black')\n",
        "plt.plot(history.history['val_loss'],color='r',alpha=0.6)\n",
        "plt.title('Model Loss')\n",
        "plt.ylabel('Loss')\n",
        "plt.xlabel('Epoch')\n",
        "plt.legend(['Train', 'Val'], loc='lower right')\n",
        "plt.grid()\n",
        "plt.show()"
      ],
      "execution_count": null,
      "outputs": [
        {
          "output_type": "display_data",
          "data": {
            "image/png": "[encoded data removed]",
            "text/plain": [
              "<Figure size 432x288 with 1 Axes>"
            ]
          },
          "metadata": {
            "tags": [],
            "needs_background": "light"
          }
        }
      ]
    },
    {
      "cell_type": "code",
      "metadata": {
        "id": "K44HkkSUInAB"
      },
      "source": [
        "# define an encoder model (without the decoder)\n",
        "encoder = Model(inputs=input_data_shape, outputs=bottleneck)\n",
        "# save the encoder to file\n",
        "encoder.save('encoder.h5')\n",
        "\n"
      ],
      "execution_count": null,
      "outputs": []
    },
    {
      "cell_type": "code",
      "metadata": {
        "colab": {
          "base_uri": "https://localhost:8080/"
        },
        "id": "2msYd2psMkA5",
        "outputId": "85f0d4da-28c6-4ffe-90ab-03a9c562a518"
      },
      "source": [
        "# load the model from file\n",
        "encoder = load_model('encoder.h5')\n",
        "\n",
        "# encode the train data\n",
        "X_train_encode = encoder.predict(X_tr)\n",
        "print('X_train_encode',X_train_encode.shape)\n",
        "# encode the test data\n",
        "X_test_encode = encoder.predict(X_te)\n",
        "print('X_test_encode',X_test_encode.shape)"
      ],
      "execution_count": null,
      "outputs": [
        {
          "output_type": "stream",
          "text": [
            "WARNING:tensorflow:No training configuration found in the save file, so the model was *not* compiled. Compile it manually.\n",
            "X_train_encode (77804, 112)\n",
            "X_test_encode (19451, 112)\n"
          ],
          "name": "stdout"
        }
      ]
    },
    {
      "cell_type": "code",
      "metadata": {
        "colab": {
          "base_uri": "https://localhost:8080/",
          "height": 482
        },
        "id": "y94t73jiJ_ry",
        "outputId": "9cddfbf5-2683-4ed2-823e-804e5bbaab79"
      },
      "source": [
        "# Training Logistic regression model and chekcing f1 score metric\n",
        "alpha = [10 ** x for x in range(-5, 4)]\n",
        "train_scores = [] # store train scores\n",
        "test_scores = [] # store test scores\n",
        "\n",
        "for i in alpha:\n",
        "    lr = SGDClassifier(loss='log', penalty='l2', alpha=i, n_jobs=-1, random_state=25)\n",
        "    lr.fit(X_train_encode,y_train)\n",
        "    train_sc = f1_score(y_train,lr.predict(X_train_encode))\n",
        "    test_sc = f1_score(y_test,lr.predict(X_test_encode))\n",
        "    test_scores.append(test_sc)\n",
        "    train_scores.append(train_sc)\n",
        "    print('Alpha = ',i,'Train Score',train_sc,'test Score',test_sc)\n",
        "    \n",
        "# plotting the scores vs parameters\n",
        "plt.plot(np.log(alpha),train_scores,label='Train Score',color='black')\n",
        "plt.plot(np.log(alpha),test_scores,label='Test Score',color='r',alpha=0.5)\n",
        "plt.xlabel('Alpha')\n",
        "plt.ylabel('Score')\n",
        "plt.grid()\n",
        "plt.title('Alpha vs Score')"
      ],
      "execution_count": null,
      "outputs": [
        {
          "output_type": "stream",
          "text": [
            "Alpha =  1e-05 Train Score 0.9373346370643045 test Score 0.9327477826573668\n",
            "Alpha =  0.0001 Train Score 0.9520401278929924 test Score 0.9440910023747398\n",
            "Alpha =  0.001 Train Score 0.9539274924471299 test Score 0.9418938090494733\n",
            "Alpha =  0.01 Train Score 0.9599653560709005 test Score 0.9464924838940588\n",
            "Alpha =  0.1 Train Score 0.9611365924600067 test Score 0.9484917133659234\n",
            "Alpha =  1 Train Score 0.9578065002996382 test Score 0.9464808733469425\n",
            "Alpha =  10 Train Score 0.9491584955363677 test Score 0.9406911080551248\n",
            "Alpha =  100 Train Score 0.9234969234969234 test Score 0.923201973204776\n",
            "Alpha =  1000 Train Score 0.8476571767497035 test Score 0.8501614193051564\n"
          ],
          "name": "stdout"
        },
        {
          "output_type": "execute_result",
          "data": {
            "text/plain": [
              "Text(0.5, 1.0, 'Alpha vs Score')"
            ]
          },
          "metadata": {
            "tags": []
          },
          "execution_count": 71
        },
        {
          "output_type": "display_data",
          "data": {
            "image/png": "[encoded data removed]",
            "text/plain": [
              "<Figure size 432x288 with 1 Axes>"
            ]
          },
          "metadata": {
            "tags": [],
            "needs_background": "light"
          }
        }
      ]
    },
    {
      "cell_type": "code",
      "metadata": {
        "colab": {
          "base_uri": "https://localhost:8080/"
        },
        "id": "2PYtPsfQL9Wx",
        "outputId": "1afc4151-9949-4045-8418-907a164e10c8"
      },
      "source": [
        "# Parameter tuning of Logistic regression using RandomisedSearch CV technique\n",
        "sgd = SGDClassifier(loss='log', n_jobs=-1, random_state=25)\n",
        " \n",
        "prams={ 'alpha': [10 ** x for x in range(-5, 4)] }\n",
        "\n",
        "random_cfl1 = RandomizedSearchCV(sgd,param_distributions=prams,verbose=10,scoring='f1',n_jobs=-1,random_state=25,\n",
        "                               return_train_score=True)\n",
        "random_cfl1.fit(X_train_encode,y_train)\n",
        "\n",
        "print('mean test scores',random_cfl1.cv_results_['mean_test_score'])\n",
        "print('mean train scores',random_cfl1.cv_results_['mean_train_score'])"
      ],
      "execution_count": null,
      "outputs": [
        {
          "output_type": "stream",
          "text": [
            "Fitting 5 folds for each of 9 candidates, totalling 45 fits\n"
          ],
          "name": "stdout"
        },
        {
          "output_type": "stream",
          "text": [
            "[Parallel(n_jobs=-1)]: Using backend LokyBackend with 2 concurrent workers.\n",
            "[Parallel(n_jobs=-1)]: Done   1 tasks      | elapsed:   18.4s\n",
            "[Parallel(n_jobs=-1)]: Done   4 tasks      | elapsed:   52.3s\n",
            "[Parallel(n_jobs=-1)]: Done   9 tasks      | elapsed:  1.7min\n",
            "[Parallel(n_jobs=-1)]: Done  14 tasks      | elapsed:  2.0min\n",
            "[Parallel(n_jobs=-1)]: Done  21 tasks      | elapsed:  2.1min\n",
            "[Parallel(n_jobs=-1)]: Done  28 tasks      | elapsed:  2.1min\n",
            "[Parallel(n_jobs=-1)]: Done  37 tasks      | elapsed:  2.2min\n",
            "[Parallel(n_jobs=-1)]: Done  45 out of  45 | elapsed:  2.2min finished\n"
          ],
          "name": "stderr"
        },
        {
          "output_type": "stream",
          "text": [
            "mean test scores [0.94484192 0.94637652 0.95316583 0.96007297 0.96095662 0.95808177\n",
            " 0.95062284 0.92556593 0.90834965]\n",
            "mean train scores [0.94483885 0.94636906 0.95292265 0.95993853 0.96097771 0.9580467\n",
            " 0.95050521 0.92560439 0.90834913]\n"
          ],
          "name": "stdout"
        }
      ]
    },
    {
      "cell_type": "code",
      "metadata": {
        "colab": {
          "base_uri": "https://localhost:8080/"
        },
        "id": "EYBXt8A3L96v",
        "outputId": "32f04c37-742b-45e7-a80b-d18580affd99"
      },
      "source": [
        "# printing best parameters and score\n",
        "print(\"Best Parameters: \",random_cfl1.best_params_)\n",
        "print(\"Best Score: \",random_cfl1.best_score_)"
      ],
      "execution_count": null,
      "outputs": [
        {
          "output_type": "stream",
          "text": [
            "Best Parameters:  {'alpha': 0.1}\n",
            "Best Score:  0.960956619182047\n"
          ],
          "name": "stdout"
        }
      ]
    },
    {
      "cell_type": "code",
      "metadata": {
        "colab": {
          "base_uri": "https://localhost:8080/"
        },
        "id": "w1SJhRaVMeU2",
        "outputId": "85c089cf-5c5f-4767-eb2c-92af8b2ffe7f"
      },
      "source": [
        "# Fitting LogisticRegression mpdel on best parameters\n",
        "sgd = SGDClassifier(loss='log', alpha=0.1, n_jobs=-1, random_state=25)\n",
        "sgd.fit(X_train_encode,y_train)\n",
        "#pickle.dump(sgd,open('models/logistic.pkl','wb'))\n",
        "\n",
        "y_train_pred = sgd.predict(X_train_encode)\n",
        "y_test_pred = sgd.predict(X_test_encode)\n",
        "\n",
        "# printing train and test scores \n",
        "print('Train f1 score: ',f1_score(y_train,y_train_pred))\n",
        "print('Test f1 score: ',f1_score(y_test,y_test_pred))"
      ],
      "execution_count": null,
      "outputs": [
        {
          "output_type": "stream",
          "text": [
            "Train f1 score:  0.9611365924600067\n",
            "Test f1 score:  0.9484917133659234\n"
          ],
          "name": "stdout"
        }
      ]
    },
    {
      "cell_type": "code",
      "metadata": {
        "colab": {
          "base_uri": "https://localhost:8080/",
          "height": 350
        },
        "id": "_kjOZF1HNGLm",
        "outputId": "35963102-0140-458c-ce56-e4dc76d83ed7"
      },
      "source": [
        "confusion_matrices_plot(y_train,y_train_pred,y_test,y_test_pred)"
      ],
      "execution_count": null,
      "outputs": [
        {
          "output_type": "display_data",
          "data": {
            "image/png": "[encoded data removed]",
            "text/plain": [
              "<Figure size 1080x360 with 4 Axes>"
            ]
          },
          "metadata": {
            "tags": [],
            "needs_background": "light"
          }
        }
      ]
    },
    {
      "cell_type": "markdown",
      "metadata": {
        "id": "_W2E3X924sjO"
      },
      "source": [
        "Observation(s):\n",
        "\n",
        "* After extracting important featres using auto_encoder ,we have 112 features.\n",
        "* The train f1_score is increased to 0.9611365924600067 and and test f1-score to 0.9484917133659234.\n",
        "\n",
        "* lets try other machine learning models to improve the score"
      ]
    },
    {
      "cell_type": "code",
      "metadata": {
        "id": "P93ejIGnSMvW"
      },
      "source": [
        ""
      ],
      "execution_count": null,
      "outputs": []
    }
  ]
}